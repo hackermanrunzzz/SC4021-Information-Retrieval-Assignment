{
 "cells": [
  {
   "cell_type": "code",
   "execution_count": null,
   "metadata": {},
   "outputs": [],
   "source": [
    "import pandas as pd\n",
    "from bs4 import BeautifulSoup as bs\n",
    "import os\n",
    "import requests\n",
    "import pickle\n",
    "import uuid\n",
    "import numpy as np\n",
    "import re\n",
    "import time\n",
    "import matplotlib.pyplot as plt\n",
    "import seaborn as sb\n",
    "from datetime import datetime\n",
    "import plotly.express as px\n",
    "from imdb import IMDb\n",
    "from imdb._exceptions import IMDbDataAccessError\n",
    "import json\n",
    "from selenium import webdriver\n",
    "from selenium.webdriver.chrome.options import Options\n",
    "from selenium.webdriver.common.by import By\n",
    "from selenium.webdriver.support.ui import WebDriverWait\n",
    "from selenium.webdriver.support import expected_conditions as EC\n",
    "from selenium.common.exceptions import NoSuchElementException, ElementClickInterceptedException\n"
   ]
  },
  {
   "cell_type": "markdown",
   "metadata": {},
   "source": [
    "### Extracting movie IDs"
   ]
  },
  {
   "cell_type": "code",
   "execution_count": null,
   "metadata": {},
   "outputs": [],
   "source": [
    "from imdb import IMDb\n",
    "\n",
    "ia = IMDb() # Initialising API Instance"
   ]
  },
  {
   "cell_type": "code",
   "execution_count": null,
   "metadata": {},
   "outputs": [],
   "source": [
    "def setup_driver():\n",
    "    chrome_options = Options()\n",
    "    chrome_options.add_argument(\"--disable-gpu\")\n",
    "    chrome_options.add_argument(\"--no-sandbox\")\n",
    "    chrome_options.add_argument(\"--window-size=1920,1080\")\n",
    "    chrome_options.add_argument(\"user-agent=Mozilla/5.0\")\n",
    "\n",
    "    return webdriver.Chrome(options=chrome_options)\n",
    "s\n",
    "def get_imdb_ids_dynamic(load_more_clicks=3):\n",
    "    imdb_ids = set()\n",
    "    driver = setup_driver()\n",
    "\n",
    "    url = \"https://www.imdb.com/search/title/?genres=sci-fi&release_date=2024-01-01,2024-12-31&title_type=movie\"\n",
    "    driver.get(url)\n",
    "    wait = WebDriverWait(driver, 10)\n",
    "\n",
    "    for i in range(load_more_clicks):\n",
    "        try:\n",
    "            print(f\"[+] Clicking 'Load More' button: Attempt {i+1}\")\n",
    "            button = wait.until(EC.element_to_be_clickable(\n",
    "                (By.CLASS_NAME, \"ipc-see-more__button\")\n",
    "            ))\n",
    "            driver.execute_script(\"arguments[0].click();\", button)\n",
    "            time.sleep(2)  # Wait for new results to load\n",
    "        except Exception as e:\n",
    "            print(f\"[!] Failed to click load more: {e}\")\n",
    "            break\n",
    "\n",
    "    # After loading everything, grab all movie links\n",
    "    a_tags = driver.find_elements(By.CSS_SELECTOR, \"a.ipc-title-link-wrapper\")\n",
    "    for a in a_tags:\n",
    "        href = a.get_attribute(\"href\")\n",
    "        match = re.search(r\"/title/(tt\\d+)/\", href)\n",
    "        if match:\n",
    "            imdb_ids.add(match.group(1))\n",
    "\n",
    "    driver.quit()\n",
    "    return list(imdb_ids)\n",
    "\n",
    "# Run it\n",
    "ids = get_imdb_ids_dynamic(load_more_clicks=25)\n",
    "print(f\"\\n✅ Total IMDb IDs collected after clicking 'Load More': {len(set(ids))}\")\n",
    "print(ids)"
   ]
  },
  {
   "cell_type": "markdown",
   "metadata": {},
   "source": [
    "## Saving Movie IDs"
   ]
  },
  {
   "cell_type": "code",
   "execution_count": null,
   "metadata": {},
   "outputs": [],
   "source": [
    "with open(\"movie_ids.pkl\", \"wb\") as f:\n",
    "    pickle.dump(ids, f)"
   ]
  },
  {
   "cell_type": "markdown",
   "metadata": {},
   "source": [
    "## Saving Movie Titles with IDs [ID -> Key, Movie Name -> Value]"
   ]
  },
  {
   "cell_type": "code",
   "execution_count": null,
   "metadata": {},
   "outputs": [],
   "source": [
    "# Setup IMDbPY with longer timeout\n",
    "ia = IMDb()\n",
    "ia.http_timeout = 20\n",
    "\n",
    "# Safe wrapper with retry\n",
    "def safe_get_movie_title(movie_id, max_retries=3):\n",
    "    for attempt in range(max_retries):\n",
    "        try:\n",
    "            movie = ia.get_movie(int(movie_id[2:]))  # remove 'tt' and cast to int\n",
    "            return movie.get('title')\n",
    "        except IMDbDataAccessError as e:\n",
    "            print(f\"[!] IMDbPY timeout for {movie_id} (attempt {attempt+1}): {e}\")\n",
    "            time.sleep(2)  # wait before retry\n",
    "        except Exception as e:\n",
    "            print(f\"[!] General error for {movie_id}: {e}\")\n",
    "            break\n",
    "    return None  # if all retries fail\n",
    "\n",
    "# Load movie IDs\n",
    "with open(\"Movie_Information/movie_ids.pkl\", \"rb\") as f:\n",
    "    ids = pickle.load(f)\n",
    "\n",
    "print(f\"Total movie IDs: {len(ids)}\")\n",
    "\n",
    "titles = {}\n",
    "for i, imdb_id in enumerate(ids, 1):\n",
    "    print(f\"Processing ({i}/{len(ids)}): {imdb_id}\")\n",
    "    title = safe_get_movie_title(imdb_id)\n",
    "    if title:\n",
    "        titles[imdb_id] = title\n",
    "    else:\n",
    "        print(f\"[!] Skipped {imdb_id} due to repeated failure.\")\n",
    "\n",
    "# Save the dictionary\n",
    "with open(\"Movie_Information/titles_ids.pkl\", \"wb\") as f:\n",
    "    pickle.dump(titles, f)\n",
    "\n",
    "print(f\"\\nSaved {len(titles)} titles successfully.\")"
   ]
  },
  {
   "cell_type": "markdown",
   "metadata": {},
   "source": [
    "## Extracting Review Data from Saved Webpages (IMDB)"
   ]
  },
  {
   "cell_type": "code",
   "execution_count": null,
   "metadata": {},
   "outputs": [],
   "source": [
    "with open(\"Movie_Information/titles_ids.pkl\",\"rb\") as f:\n",
    "    titles = pickle.load(f)\n",
    "\n",
    "def click_all_reviews_button(driver):\n",
    "    try:\n",
    "        # Wait for the All button to be present and visible -> All button is at the end of the page for movies which have more than 25 reviews (rule of thumb)\n",
    "        all_button = WebDriverWait(driver, 10).until(\n",
    "            EC.presence_of_element_located((By.XPATH, \"//button[.//span[text()='All']]\"))\n",
    "        )\n",
    "        driver.execute_script(\"arguments[0].scrollIntoView({behavior: 'smooth', block: 'center'});\", all_button)\n",
    "        time.sleep(1)\n",
    "\n",
    "        # Wait for any overlays to disappear\n",
    "        WebDriverWait(driver, 10).until(EC.element_to_be_clickable((By.XPATH, \"//button[.//span[text()='All']]\")))\n",
    "\n",
    "        # Use JavaScript to click the button (bypasses visual obstruction)\n",
    "        driver.execute_script(\"arguments[0].click();\", all_button)\n",
    "        print(\"Clicked 'All' button using JavaScript.\")\n",
    "        time.sleep(3)\n",
    "\n",
    "    except Exception as e:\n",
    "        print(f\"[!] Could not click 'All' button: {e}\")\n",
    "\n",
    "\n",
    "def click_all_load_more(driver, max_clicks=100):\n",
    "    \"\"\"\n",
    "    Continuously clicks the \"Load More\" button on the IMDB review page\n",
    "    until it's gone or max_clicks is reached.\n",
    "    \"\"\"\n",
    "    for i in range(max_clicks):\n",
    "        try:\n",
    "            load_more = driver.find_element(By.CLASS_NAME, \"ipc-see-more__button\")\n",
    "\n",
    "            if load_more.get_attribute(\"aria-disabled\") == \"true\":\n",
    "                print(\"Load more button is disabled. Done.\")\n",
    "                break\n",
    "\n",
    "            driver.execute_script(\"arguments[0].scrollIntoView(true);\", load_more)\n",
    "            time.sleep(1.5)\n",
    "            load_more.click()\n",
    "            print(f\"Clicked Load More ({i+1})\")\n",
    "            time.sleep(2.5)\n",
    "\n",
    "        except NoSuchElementException:\n",
    "            print(\"No more Load More button found.\")\n",
    "            break\n",
    "        except ElementClickInterceptedException:\n",
    "            print(\"Scroll attempt to fix intercepted click.\")\n",
    "            driver.execute_script(\"window.scrollBy(0, 300);\")\n",
    "            time.sleep(1)\n",
    "        except Exception as e:\n",
    "            print(f\"[!] Unexpected error: {e}\")\n",
    "            break\n",
    "\n",
    "def expand_all_spoilers(driver):\n",
    "    try:\n",
    "        spoiler_buttons = driver.find_elements(By.XPATH, \"//span[text()='Spoiler']/ancestor::button\")\n",
    "        print(f\"🔍 Found {len(spoiler_buttons)} spoiler buttons.\")\n",
    "        for i, btn in enumerate(spoiler_buttons):\n",
    "            try:\n",
    "                driver.execute_script(\"arguments[0].scrollIntoView({behavior: 'smooth', block: 'center'});\", btn)\n",
    "                driver.execute_script(\"arguments[0].click();\", btn)\n",
    "                time.sleep(0.5)\n",
    "            except Exception as e:\n",
    "                print(f\"[!] Could not click spoiler {i+1}: {e}\")\n",
    "    except Exception as e:\n",
    "        print(f\"[!] Error expanding spoilers: {e}\")\n",
    "\n",
    "\n",
    "def extract_reviews_from_html(html):\n",
    "    soup = BeautifulSoup(html, \"html.parser\")\n",
    "    articles = soup.select(\"article.user-review-item\")\n",
    "    reviews = []\n",
    "\n",
    "    for article in articles:\n",
    "        try:\n",
    "            # Title\n",
    "            title_elem = article.select_one(\"h3.ipc-title__text\")\n",
    "            title = title_elem.text.strip() if title_elem else \"N/A\"\n",
    "\n",
    "            # Body\n",
    "            body_elem = (\n",
    "                article.select_one(\"div.ipc-overflowText__children div.ipc-html-content-inner-div\") or\n",
    "                article.select_one(\"div[data-testid='review-overflow'] div.ipc-html-content-inner-div\") or\n",
    "                article.select_one(\"div[data-testid='review-content'] div.ipc-html-content-inner-div\") or\n",
    "                article.select_one(\"div.review-content div.ipc-html-content-inner-div\")\n",
    "            )\n",
    "            if body_elem:\n",
    "                for br in body_elem.find_all(\"br\"):\n",
    "                    br.replace_with(\"\\n\")\n",
    "                body = body_elem.text.strip()\n",
    "            else:\n",
    "                body = \"N/A\"\n",
    "\n",
    "            # Rating\n",
    "            rating_elem = article.select_one(\"span.ipc-rating-star--rating\")\n",
    "            rating = rating_elem.text.strip() if rating_elem else \"N/A\"\n",
    "\n",
    "            # Upvotes\n",
    "            upvote_elem = article.select_one(\"span.ipc-voting__label span.ipc-voting__label__count.ipc-voting__label__count--up\")\n",
    "            upvotes = int(upvote_elem.text.strip()) if upvote_elem else 0\n",
    "\n",
    "            # Downvotes\n",
    "            downvote_elem = article.select_one(\"span.ipc-voting__label span.ipc-voting__label__count.ipc-voting__label__count--down\")\n",
    "            downvotes = int(downvote_elem.text.strip()) if downvote_elem else 0\n",
    "\n",
    "            reviews.append({\n",
    "                \"title\": title,\n",
    "                \"rating\": rating,\n",
    "                \"body\": body,\n",
    "                \"upvotes\": upvotes,\n",
    "                \"downvotes\": downvotes\n",
    "            })\n",
    "\n",
    "        except Exception as e:\n",
    "            print(\"[!] Error parsing review:\", e)\n",
    "\n",
    "    return reviews\n",
    "\n",
    "def paginate_reviews_dynamically(driver, max_attempts=100, pause_time=2.5):\n",
    "    \"\"\"\n",
    "    Handles any form of dynamic pagination: \"Load More\", \"6 more\", infinite scroll.\n",
    "    \"\"\"\n",
    "    last_count = 0\n",
    "    same_count_attempts = 0\n",
    "\n",
    "    for i in range(max_attempts):\n",
    "        # First, try clicking any visible \"more\" button\n",
    "        try:\n",
    "            more_button = WebDriverWait(driver, 3).until(\n",
    "                EC.element_to_be_clickable((By.XPATH, \"//button[.//span[contains(text(), 'more')]]\"))\n",
    "            )\n",
    "            driver.execute_script(\"arguments[0].scrollIntoView({behavior: 'smooth', block: 'center'});\", more_button)\n",
    "            time.sleep(0.5)\n",
    "            driver.execute_script(\"arguments[0].click();\", more_button)\n",
    "            print(f\"🔁 Clicked 'More' button ({i + 1})\")\n",
    "            time.sleep(pause_time)\n",
    "            continue  # Retry to catch next button\n",
    "        except:\n",
    "            pass  # No button found, proceed with scroll fallback\n",
    "\n",
    "        # Scroll as fallback to trigger lazy loading\n",
    "        driver.execute_script(\"window.scrollBy(0, 1000);\")\n",
    "        time.sleep(pause_time)\n",
    "\n",
    "        current_count = len(driver.find_elements(By.CSS_SELECTOR, \"article.user-review-item\"))\n",
    "        print(f\"Scroll check {i + 1}: {current_count} reviews visible.\")\n",
    "\n",
    "        if current_count == last_count:\n",
    "            same_count_attempts += 1\n",
    "        else:\n",
    "            same_count_attempts = 0\n",
    "            last_count = current_count\n",
    "\n",
    "        if same_count_attempts >= 5:\n",
    "            print(\"No more reviews loading — ending pagination.\")\n",
    "            break\n",
    "    else:\n",
    "        print(\"Max attempts reached — pagination may be incomplete.\")\n",
    "\n",
    "def scroll_to_load_all_reviews(driver, pause_time=3.0, max_scrolls=1, scroll_step=1000):\n",
    "    \"\"\"\n",
    "    Scrolls down the page incrementally to trigger dynamic loading of reviews.\n",
    "    \"\"\"\n",
    "    last_count = 0\n",
    "    attempts = 0\n",
    "\n",
    "    for i in range(max_scrolls):\n",
    "        driver.execute_script(f\"window.scrollBy(0, {scroll_step});\")\n",
    "        time.sleep(pause_time)\n",
    "\n",
    "        # Optional: track number of loaded reviews\n",
    "        current_count = len(driver.find_elements(By.CSS_SELECTOR, \"article.user-review-item\"))\n",
    "\n",
    "        if current_count == last_count:\n",
    "            attempts += 1\n",
    "        else:\n",
    "            attempts = 0\n",
    "            last_count = current_count\n",
    "\n",
    "        # Stop if no new reviews for N attempts\n",
    "        if attempts >= 3:\n",
    "            print(\"No new reviews loading — stopping scroll.\")\n",
    "            break\n",
    "    else:\n",
    "        print(\"Max scroll limit reached — possibly incomplete.\")\n",
    "\n",
    "\n",
    "def scrape_reviews_selenium(save_path=\"Reviews\"):\n",
    "    if not os.path.exists(save_path):\n",
    "        os.makedirs(save_path)\n",
    "\n",
    "    driver = webdriver.Chrome()\n",
    "    \n",
    "    try:\n",
    "        for imdb_id, title in titles.items():\n",
    "            url = f\"https://www.imdb.com/title/{imdb_id}/reviews\"\n",
    "\n",
    "            try:\n",
    "                driver.get(url)\n",
    "                time.sleep(2)\n",
    "                review_count_elem = driver.find_element(By.CSS_SELECTOR, \"div[data-testid='tturv-total-reviews']\")\n",
    "                review_text = review_count_elem.text.strip()\n",
    "                review_num = int(review_text.split()[0].replace(\",\", \"\"))\n",
    "                if review_num == 0:\n",
    "                    print(f\"Skipping {title} ({imdb_id}) — 0 reviews found.\")\n",
    "                    continue\n",
    "                \n",
    "                if (review_num > 25):\n",
    "\n",
    "                    print(\"Clicking 'All' button to load full review mode...\")\n",
    "                    click_all_reviews_button(driver)\n",
    "\n",
    "                    print(\"Paginating through dynamic review blocks...\")\n",
    "                    paginate_reviews_dynamically(driver)\n",
    "\n",
    "                    print(\"Expanding spoiler tagged reviews...\")\n",
    "                    expand_all_spoilers(driver)\n",
    "\n",
    "                    print(\"Extracting reviews from fully loaded page...\")\n",
    "                    html = driver.page_source\n",
    "                    reviews = extract_reviews_from_html(html)\n",
    "\n",
    "                    print(f\"Total reviews scraped: {len(reviews)}\")\n",
    "\n",
    "                    with open(f\"{save_path}/{imdb_id}_reviews.pkl\", \"wb\") as f:\n",
    "                        pickle.dump(reviews, f)\n",
    "                    print(f\"Saved: {save_path}/{imdb_id}_reviews.pkl\")\n",
    "                    \n",
    "                else:\n",
    "                    \n",
    "                    print(\"Expanding spoiler tagged reviews...\")\n",
    "                    expand_all_spoilers(driver)\n",
    "\n",
    "                    print(\"Extracting reviews from fully loaded page...\")\n",
    "                    html = driver.page_source\n",
    "                    reviews = extract_reviews_from_html(html)\n",
    "\n",
    "                    print(f\"Total reviews scraped: {len(reviews)}\")\n",
    "\n",
    "                    with open(f\"{save_path}/{imdb_id}_reviews.pkl\", \"wb\") as f:\n",
    "                        pickle.dump(reviews, f)\n",
    "                    print(f\"Saved: {save_path}/{imdb_id}_reviews.pkl\")\n",
    "\n",
    "            except Exception as e:\n",
    "                print(f\"[!] Error scraping {imdb_id}: {e}\")\n",
    "\n",
    "    finally:\n",
    "        driver.quit()\n",
    "        \n",
    "scrape_reviews_selenium()"
   ]
  },
  {
   "cell_type": "markdown",
   "metadata": {},
   "source": [
    "## Extracting Metadata from Saved Webpages (IMDB)"
   ]
  },
  {
   "cell_type": "code",
   "execution_count": null,
   "metadata": {},
   "outputs": [],
   "source": [
    "## === Take note that we only extract metadata for movies which have len(reviews) >= 1. Filtering is done through the output of the previous cell === ##\n",
    "\n",
    "def get_saved_imdb_ids(directory, extension=\".pkl\"):\n",
    "    saved_ids = set()\n",
    "    for filename in os.listdir(directory):\n",
    "        if filename.endswith(extension):\n",
    "            imdb_id = os.path.splitext(filename)[0]  # remove file extension\n",
    "            imdb_id = imdb_id.split(\"_\")[0]\n",
    "            saved_ids.add(imdb_id)\n",
    "    return saved_ids\n",
    "\n",
    "ids = get_saved_imdb_ids(\"Reviews\") # Valid IDs for movies which have reviews\n",
    "\n",
    "problematic_imdbs = []\n",
    "    \n",
    "def scroll_until_element_found(driver, by, selector, max_scrolls=20, scroll_pause=1):\n",
    "    for _ in range(max_scrolls):\n",
    "        try:\n",
    "            element = driver.find_element(by, selector)\n",
    "            return element\n",
    "        except NoSuchElementException:\n",
    "            driver.execute_script(\"window.scrollBy(0, 1000);\")\n",
    "            time.sleep(scroll_pause)\n",
    "    return None\n",
    "\n",
    "def scrape_meta_information_selenium(save_path=\"Filtered_MetaData\"):\n",
    "    if not os.path.exists(save_path):\n",
    "        os.makedirs(save_path)\n",
    "\n",
    "    driver = webdriver.Chrome()\n",
    "    \n",
    "    count = 0\n",
    "\n",
    "    try:\n",
    "        for imdb_id in ids:\n",
    "            meta_information = {}\n",
    "            interest_tags_data = []\n",
    "            url = f\"https://www.imdb.com/title/{imdb_id}\"\n",
    "\n",
    "            try:\n",
    "                driver.get(url)\n",
    "                WebDriverWait(driver, 10).until(\n",
    "                    EC.presence_of_element_located((By.TAG_NAME, \"body\"))\n",
    "                )\n",
    "                WebDriverWait(driver, 10).until(\n",
    "                    EC.presence_of_element_located((By.CSS_SELECTOR, \"div[data-testid='hero-rating-bar__aggregate-rating__score']\"))\n",
    "                )\n",
    "\n",
    "                # --- Interest Tags ---\n",
    "                try:\n",
    "                    interest_tags = driver.find_elements(By.CSS_SELECTOR, \"a.ipc-chip.ipc-chip--on-baseAlt\")\n",
    "                    for tag in interest_tags:\n",
    "                        span = tag.find_element(By.CLASS_NAME, \"ipc-chip__text\")\n",
    "                        interest_tags_data.append(span.text.strip())\n",
    "                    meta_information['Interest_Tags'] = interest_tags_data if interest_tags_data else \"N/A\"\n",
    "                except Exception as e:\n",
    "                    meta_information['Interest_Tags'] = \"N/A\"\n",
    "\n",
    "                # --- IMDb Rating ---\n",
    "                try:\n",
    "                    rating_elem = driver.find_element(By.CSS_SELECTOR, \"div[data-testid='hero-rating-bar__aggregate-rating__score'] span\")\n",
    "                    meta_information['IMDB_Rating'] = rating_elem.text.strip()\n",
    "                except Exception as e:\n",
    "                    meta_information['IMDB_Rating'] = \"N/A\"\n",
    "\n",
    "                # --- Number of Votes ---\n",
    "                try:\n",
    "                    rating_block = driver.find_element(\n",
    "                        By.CSS_SELECTOR,\n",
    "                        \"div[data-testid='hero-rating-bar__aggregate-rating__score']\"\n",
    "                    ).find_element(By.XPATH, \"../..\")\n",
    "\n",
    "                    vote_candidates = rating_block.find_elements(By.TAG_NAME, \"div\")\n",
    "                    num_votes = \"N/A\"\n",
    "                    \n",
    "                    for div in vote_candidates:\n",
    "                        text = div.text.strip().replace(\",\", \"\")\n",
    "                        if text.isdigit():\n",
    "                            num_votes = text\n",
    "                            break\n",
    "                    \n",
    "                    meta_information[\"Num_Votes\"] = num_votes\n",
    "                except Exception as e:\n",
    "                    meta_information[\"Num_Votes\"] = \"N/A\"\n",
    "\n",
    "\n",
    "                # --- Current popularity ---\n",
    "                try:\n",
    "                    pop_elem = driver.find_element(By.CSS_SELECTOR, \"div[data-testid='hero-rating-bar__popularity__score']\")\n",
    "                    meta_information[\"Popularity_Score\"] = pop_elem.text.strip()\n",
    "                except Exception as e:\n",
    "                    meta_information[\"Popularity_Score\"] = \"N/A\"\n",
    "\n",
    "                # --- Credits Section (Director, Writers, Stars) ---\n",
    "                try:\n",
    "                    credits = driver.find_elements(By.CSS_SELECTOR, \"li[data-testid='title-pc-principal-credit']\")\n",
    "\n",
    "                    # Director\n",
    "                    try:\n",
    "                        director_links = credits[0].find_elements(By.CSS_SELECTOR, \"ul li a\")\n",
    "                        meta_information[\"Director(s)\"] = [a.text.strip() for a in director_links if a.text.strip()]\n",
    "                    except:\n",
    "                        meta_information[\"Director(s)\"] = \"N/A\"\n",
    "\n",
    "                    # Writer\n",
    "                    try:\n",
    "                        writer_links = credits[1].find_elements(By.CSS_SELECTOR, \"ul li a\")\n",
    "                        meta_information[\"Writer(s)\"] = [a.text.strip() for a in writer_links if a.text.strip()]\n",
    "                    except:\n",
    "                        meta_information[\"Writer(s)\"] = \"N/A\"\n",
    "\n",
    "                    # Stars\n",
    "                    try:\n",
    "                        star_links = credits[2].find_elements(By.CSS_SELECTOR, \"ul li a\")\n",
    "                        meta_information[\"Star(s)\"] = [a.text.strip() for a in star_links if a.text.strip()]\n",
    "                    except:\n",
    "                        meta_information[\"Star(s)\"] = \"N/A\"\n",
    "\n",
    "                except Exception as e:\n",
    "                    meta_information[\"Director(s)\"] = \"N/A\"\n",
    "                    meta_information[\"Writer(s)\"] = \"N/A\"\n",
    "                    meta_information[\"Star(s)\"] = \"N/A\"\n",
    "\n",
    "                # --- Review Counts ---\n",
    "                try:\n",
    "                    user_reviews = critic_reviews = \"N/A\"\n",
    "                    review_blocks = driver.find_elements(By.CSS_SELECTOR, \"span.three-Elements\")\n",
    "                    for block in review_blocks:\n",
    "                        label = block.find_element(By.CLASS_NAME, \"label\").text.strip()\n",
    "                        score = block.find_element(By.CLASS_NAME, \"score\").text.strip()\n",
    "                        if \"User\" in label:\n",
    "                            user_reviews = score\n",
    "                        elif \"Critic\" in label:\n",
    "                            critic_reviews = score\n",
    "                    meta_information[\"Num_User_Reviews\"] = user_reviews\n",
    "                    meta_information[\"Num_Critic_Reviews\"] = critic_reviews\n",
    "                except Exception as e:\n",
    "                    meta_information[\"Num_User_Reviews\"] = \"N/A\"\n",
    "                    meta_information[\"Num_Critic_Reviews\"] = \"N/A\"\n",
    "\n",
    "                # --- MetaScore ---\n",
    "                try:\n",
    "                    metascore_elem = driver.find_element(By.CSS_SELECTOR, \"span.metacritic-score-box\")\n",
    "                    meta_information[\"MetaScore\"] = metascore_elem.text.strip()\n",
    "                except Exception as e:\n",
    "                    meta_information[\"MetaScore\"] = \"N/A\"\n",
    "\n",
    "                # --- Streaming Service ---\n",
    "                try:\n",
    "                    streaming_elem = driver.find_element(By.CSS_SELECTOR, \"a[aria-label^='Watch on']\")\n",
    "                    label = streaming_elem.get_attribute(\"aria-label\")\n",
    "                    meta_information[\"Streaming_Service\"] = label.replace(\"Watch on \", \"\").strip()\n",
    "                except Exception as e:\n",
    "                    meta_information[\"Streaming_Service\"] = \"N/A\"\n",
    "\n",
    "                # --- Storyline ---\n",
    "                try:\n",
    "                    # Scroll until Storyline section is found\n",
    "                    storyline_section = scroll_until_element_found(driver, By.XPATH, \"//section[@data-testid='Storyline']\")\n",
    "\n",
    "                    if storyline_section:\n",
    "                        storyline_elem = storyline_section.find_element(\n",
    "                            By.CSS_SELECTOR,\n",
    "                            \"div[data-testid='storyline-plot-summary'] div.ipc-html-content-inner-div\"\n",
    "                        )\n",
    "                        storyline = storyline_elem.text.strip()\n",
    "                        meta_information[\"Storyline\"] = storyline\n",
    "                    else:\n",
    "                        raise Exception(\"Storyline section not found after scrolling.\")\n",
    "                except Exception as e:\n",
    "                    meta_information[\"Storyline\"] = \"N/A\"\n",
    "\n",
    "                # --- Tagline ---\n",
    "                try:\n",
    "                    tagline_elem = driver.find_element(By.CSS_SELECTOR, \"[data-testid='storyline-taglines']\")\n",
    "                    meta_information[\"Tagline\"] = tagline_elem.text.strip()\n",
    "                except Exception as e:\n",
    "                    meta_information[\"Tagline\"] = \"N/A\"\n",
    "\n",
    "                # --- Genres ---\n",
    "                try:\n",
    "                    genres_elem = driver.find_element(By.CSS_SELECTOR, \"[data-testid='storyline-genres']\")\n",
    "                    genre_links = genres_elem.find_elements(By.CSS_SELECTOR, \"ul li a\")\n",
    "                    genres = [link.text.strip() for link in genre_links if link.text.strip()]\n",
    "                    meta_information[\"Genres\"] = genres if genres else \"N/A\"\n",
    "                except Exception as e:\n",
    "                    genres = \"N/A\"\n",
    "                    meta_information[\"Genres\"] = genres\n",
    "\n",
    "                # Scroll until \"Details\" section is found\n",
    "                details_section = scroll_until_element_found(\n",
    "                    driver,\n",
    "                    By.XPATH,\n",
    "                    \"//section[@data-testid='Details']\"\n",
    "                )\n",
    "\n",
    "                if not details_section:\n",
    "                    print(\"No Details Section Found\")\n",
    "\n",
    "                # --- Release Date ---\n",
    "                try:\n",
    "                    release_elem = details_section.find_element(\n",
    "                        By.CSS_SELECTOR,\n",
    "                        \"li[data-testid='title-details-releasedate'] ul li a\"\n",
    "                    )\n",
    "                    release_date = release_elem.text.strip()\n",
    "                    meta_information[\"Release_Date\"] = release_date\n",
    "                except Exception as e:\n",
    "                    print(\"Could not extract release date.\")\n",
    "                    meta_information[\"Release_Date\"] = \"N/A\"\n",
    "\n",
    "                # --- Country of Origin ---\n",
    "                try:\n",
    "                    country_links = details_section.find_elements(\n",
    "                        By.CSS_SELECTOR,\n",
    "                        \"li[data-testid='title-details-origin'] ul li a\"\n",
    "                    )\n",
    "                    countries = [link.text.strip() for link in country_links if link.text.strip()]\n",
    "                    meta_information[\"Country_of_Origin\"] = countries if countries else \"N/A\"\n",
    "                except Exception as e:\n",
    "                    print(\"Could not extract countries of origin.\")\n",
    "                    meta_information[\"Country_of_Origin\"] = \"N/A\"\n",
    "\n",
    "                # --- Language(s) ---\n",
    "                try:\n",
    "                    language_links = details_section.find_elements(\n",
    "                        By.CSS_SELECTOR,\n",
    "                        \"li[data-testid='title-details-languages'] ul li a\"\n",
    "                    )\n",
    "                    languages = [link.text.strip() for link in language_links if link.text.strip()]\n",
    "                    meta_information[\"Language\"] = languages if languages else \"N/A\"\n",
    "                except Exception as e:\n",
    "                    print(\"Could not extract language(s).\")\n",
    "                    meta_information[\"Language\"] = \"N/A\"\n",
    "                    \n",
    "                # --- Box Office Info ---\n",
    "                try:\n",
    "                    # box_office_section = scroll_until_element_found(driver, By.XPATH, \"//section[@data-testid='BoxOffice']\")\n",
    "                    \n",
    "                    box_office_section = driver.find_element(By.XPATH, \"//section[@data-testid='BoxOffice']\")\n",
    "\n",
    "\n",
    "                    if box_office_section:\n",
    "                        box_office_items = box_office_section.find_elements(By.CSS_SELECTOR, \"li.ipc-metadata-list__item\")\n",
    "\n",
    "                        for item in box_office_items:\n",
    "                            try:\n",
    "                                label = item.find_element(By.CSS_SELECTOR, \"span.ipc-metadata-list-item__label\").text.strip()\n",
    "\n",
    "                                # Navigate to the deeply nested content span (actual number value)\n",
    "                                value = item.find_element(By.CSS_SELECTOR, \"div.ipc-metadata-list-item__content-container ul li span\").text.strip()\n",
    "\n",
    "                                meta_information[label] = value\n",
    "                            except Exception:\n",
    "                                continue\n",
    "                    else:\n",
    "                        raise Exception(\"BoxOffice section not found.\")\n",
    "\n",
    "                except Exception as e:\n",
    "                    print(f\"Could not extract box office data: {e}\")\n",
    "                    \n",
    "                # --- Runtime ---\n",
    "                try:\n",
    "                    runtime_section = driver.find_element(By.XPATH, \"//section[@data-testid='TechSpecs']\")\n",
    "\n",
    "                    if runtime_section:\n",
    "                        runtime_elem = runtime_section.find_element(\n",
    "                            By.CSS_SELECTOR,\n",
    "                            \"li[data-testid='title-techspec_runtime'] div.ipc-metadata-list-item__content-container\"\n",
    "                        )\n",
    "                        runtime = runtime_elem.text.strip()  # Will give something like: \"2 hours 46 minutes\"\n",
    "                        meta_information[\"Runtime\"] = runtime\n",
    "                    else:\n",
    "                        raise Exception(\"TechSpecs section not found.\")\n",
    "\n",
    "                except Exception as e:\n",
    "                    print(\"Could not extract runtime:\", e)\n",
    "                    meta_information[\"Runtime\"] = \"N/A\"\n",
    "                \n",
    "                # Save to file\n",
    "                with open(f\"{save_path}/{imdb_id}_meta.pkl\", \"wb\") as f:\n",
    "                    pickle.dump(meta_information, f)\n",
    "                print(f\"Saved: {save_path}/{imdb_id}_meta.pkl\")\n",
    "                count += 1\n",
    "                print(f\"{count}/{len(ids)} Movies' MetaData Processed\")\n",
    "                print(\"\\n\")\n",
    "\n",
    "            except Exception as e:\n",
    "                print(f\"[!] Error scraping {imdb_id}: {e}\")\n",
    "                problematic_imdbs.append(imdb_id)\n",
    "\n",
    "    finally:\n",
    "        driver.quit()\n",
    "\n",
    "scrape_meta_information_selenium()"
   ]
  },
  {
   "cell_type": "code",
   "execution_count": null,
   "metadata": {},
   "outputs": [],
   "source": [
    "with open(\"Movie_Information/titles_ids.pkl\",\"rb\") as f:\n",
    "    titles = pickle.load(f)\n",
    "    \n",
    "directory = \"Reviews\"\n",
    "\n",
    "all_review_information = {}\n",
    "\n",
    "for imdb_id, title in titles.items():\n",
    "    filename = f\"{imdb_id}_reviews.pkl\"\n",
    "    file_path = os.path.join(directory, filename)\n",
    "    if os.path.exists(file_path): \n",
    "        with open(file_path, \"rb\") as f:\n",
    "            data = pickle.load(f)\n",
    "            all_review_information[title] = data\n",
    "            \n",
    "with open(\"Final_Data/all_review_information.json\", \"w\", encoding=\"utf-8\") as f:\n",
    "    json.dump(all_review_information,f, ensure_ascii=False,indent=2)\n",
    "    \n",
    "print(f\"Saved Review Data for {len(all_review_information)} titles.\")"
   ]
  },
  {
   "cell_type": "code",
   "execution_count": null,
   "metadata": {},
   "outputs": [],
   "source": [
    "all_review_metadata = {}\n",
    "directory = \"Filtered_MetaData\"\n",
    "\n",
    "for imdb_id, title in titles.items():\n",
    "    filename = f\"{imdb_id}_meta.pkl\"\n",
    "    file_path = os.path.join(directory, filename)\n",
    "\n",
    "    if os.path.exists(file_path): \n",
    "        with open(file_path, \"rb\") as f:\n",
    "            data = pickle.load(f)\n",
    "            all_review_metadata[title] = data\n",
    "\n",
    "os.makedirs(\"Final_Data\", exist_ok=True)\n",
    "\n",
    "with open(\"Final_Data/all_review_metadata.json\", \"w\", encoding=\"utf-8\") as f:\n",
    "    json.dump(all_review_metadata, f, ensure_ascii=False, indent=2)\n",
    "\n",
    "print(f\"Saved MetaData for {len(all_review_metadata)} titles.\")"
   ]
  },
  {
   "cell_type": "markdown",
   "metadata": {},
   "source": [
    "### An additional sanity check is done to ensure that no movies which have 0 reviews are included in the data"
   ]
  },
  {
   "cell_type": "code",
   "execution_count": null,
   "metadata": {},
   "outputs": [],
   "source": [
    "with open(\"Final_Data/all_review_information.json\",\"r\") as f:\n",
    "    info = json.load(f)\n",
    "    \n",
    "with open(\"Final_Data/all_review_metadata.json\",\"r\") as f:\n",
    "    meta = json.load(f)\n",
    "    \n",
    "# First, keep all movies in info which DO NOT have 0 reviews\n",
    "\n",
    "info = {k: v for k, v in info.items() if v != []}\n",
    "\n",
    "# Make sure meta is changed accordingly as well\n",
    "meta = {k: v for k, v in meta.items() if k in info}\n",
    "\n",
    "with open(\"Final_Data/all_review_information_filtered.json\",\"w\", encoding=\"utf-8\") as f:\n",
    "    json.dump(info,f, ensure_ascii=False, indent=2)\n",
    "    \n",
    "with open(\"Final_Data/all_review_metadata_filtered.json\", \"w\", encoding=\"utf-8\") as f:\n",
    "    json.dump(meta,f, ensure_ascii=False, indent=2)"
   ]
  },
  {
   "cell_type": "markdown",
   "metadata": {},
   "source": [
    "### Information pertaining to data collected"
   ]
  },
  {
   "cell_type": "code",
   "execution_count": null,
   "metadata": {},
   "outputs": [],
   "source": [
    "import glob\n",
    "from collections import Counter\n",
    "\n",
    "review_files = glob.glob(\"Reviews/*.pkl\")\n",
    "num_records = len(review_files)\n",
    "print(f\"Total number of review documents: {num_records}\")\n",
    "\n",
    "total_reviews = 0\n",
    "for file in review_files:\n",
    "    with open(file, \"rb\") as f:\n",
    "        data = pickle.load(f)\n",
    "        total_reviews += len(data) \n",
    "\n",
    "print(f\"Total number of individual reviews: {total_reviews}\")\n",
    "\n",
    "word_counter = Counter()\n",
    "\n",
    "for file in review_files:\n",
    "    with open(file, \"rb\") as f:\n",
    "        reviews = pickle.load(f)\n",
    "        for review in reviews:\n",
    "            text = review.get(\"body\", \"\")\n",
    "            words = re.findall(r'\\b\\w+\\b', text.lower())\n",
    "            word_counter.update(words)\n",
    "\n",
    "total_words = sum(word_counter.values())\n",
    "unique_words = len(word_counter)\n",
    "\n",
    "print(f\"Total words (tokens): {total_words}\")\n",
    "print(f\"Unique words (types): {unique_words}\")"
   ]
  },
  {
   "cell_type": "markdown",
   "metadata": {},
   "source": [
    "## Data Indexing Pipeline Begins Here"
   ]
  },
  {
   "cell_type": "code",
   "execution_count": null,
   "metadata": {},
   "outputs": [],
   "source": [
    "# Initialising Solr through python wrapper pysolr\n",
    "from urllib import *\n",
    "import pysolr\n",
    "solr = pysolr.Solr('http://localhost:8983/solr/moviereviewscore', always_commit=True)"
   ]
  },
  {
   "cell_type": "code",
   "execution_count": null,
   "metadata": {},
   "outputs": [],
   "source": [
    "response = solr.ping()\n",
    "parsed = json.loads(response)\n",
    "print(\"Solr Ping Status:\", parsed[\"status\"]) # Should be 'OK'\n",
    "print(\"Response Time (ms):\", parsed[\"responseHeader\"][\"QTime\"])"
   ]
  },
  {
   "cell_type": "markdown",
   "metadata": {},
   "source": [
    "### Helper functions for pre-processing review data and metadata"
   ]
  },
  {
   "cell_type": "code",
   "execution_count": null,
   "metadata": {},
   "outputs": [],
   "source": [
    "def safe_float(value, fallback=-1.0): # Helper function to handle reviews with NULL Ratings\n",
    "    try:\n",
    "        if value is None:\n",
    "            return fallback\n",
    "        value_str = str(value).strip()\n",
    "        if value_str.lower() in [\"\", \"n/a\", \"none\", \"null\"]:\n",
    "            return fallback\n",
    "        return float(value_str)\n",
    "    except (ValueError, TypeError):\n",
    "        return fallback\n",
    "\n",
    "def parse_currency(value_str):\n",
    "    try:\n",
    "        # Extract the first occurrence of a numeric pattern (with optional commas and decimals)\n",
    "        match = re.search(r\"[\\d,]+(?:\\.\\d+)?\", value_str)\n",
    "        if match:\n",
    "            number_str = match.group().replace(\",\", \"\")\n",
    "            return float(number_str)\n",
    "    except:\n",
    "        pass\n",
    "    return 0\n",
    "\n",
    "def parse_runtime(runtime_str):\n",
    "    try:\n",
    "        hours = minutes = 0\n",
    "        match = re.findall(r'(\\d+)\\s*(hour|minute)', runtime_str)\n",
    "        for amount, unit in match:\n",
    "            if 'hour' in unit:\n",
    "                hours = int(amount)\n",
    "            elif 'minute' in unit:\n",
    "                minutes = int(amount)\n",
    "        \n",
    "        return hours * 60 + minutes\n",
    "    \n",
    "    except:\n",
    "        return 0\n",
    "    \n",
    "def parse_release_date(date_str):\n",
    "    try:\n",
    "        match = re.match(r\"([A-Za-z]+ \\d{1,2}, \\d{4})(?: \\((.*?)\\))?\", date_str)\n",
    "        if not match:\n",
    "            return None, \"N/A\"\n",
    "        \n",
    "        raw_date, country = match.groups()\n",
    "        parsed_date = datetime.strptime(raw_date.strip(), \"%B %d, %Y\")\n",
    "        return parsed_date.strftime(\"%Y-%m-%dT00:00:00Z\"), country or \"N/A\" # For compatibility with Solr\n",
    "    except Exception:\n",
    "        return None, \"N/A\"\n",
    "\n",
    "import hashlib\n",
    "\n",
    "def generate_doc_id(movie_name, review_body):\n",
    "    unique_str = f\"{movie_name}::{review_body}::{time.time()}\".encode('utf-8') # To ensure unique ids, we hash movie name, review body, and timestamp\n",
    "    return hashlib.md5(unique_str).hexdigest()\n",
    "\n",
    "\n",
    "\n",
    "def prepare_solr_document(meta, title, body, movie_name, positive_ratings, negative_ratings):\n",
    "    def ensure_list(val):\n",
    "        return val if isinstance(val, list) else [val] if val else [\"N/A\"]\n",
    "\n",
    "    parsed_date, release_country = parse_release_date(meta.get(\"Release_Date\", \"\"))\n",
    "    \n",
    "    doc = {\n",
    "        \"id\": generate_doc_id(movie_name, body),\n",
    "        \"title\": title,\n",
    "        \"body\": body,\n",
    "        \"movie_name\": movie_name,\n",
    "        \"movie_name_autocomplete\": movie_name,\n",
    "        \"positive_user_ratings\": safe_float(positive_ratings),\n",
    "        \"negative_user_ratings\": safe_float(negative_ratings),\n",
    "\n",
    "        # Float/numeric fields\n",
    "        \"imdb_rating\": safe_float(meta.get(\"IMDB_Rating\", -1)),\n",
    "        \"metascore\": safe_float(meta.get(\"MetaScore\", -1)),\n",
    "        \"budget\": parse_currency(meta.get(\"Budget\", \"\")),\n",
    "        \"gross_worldwide\": parse_currency(meta.get(\"Gross worldwide\", \"\")),\n",
    "        \"runtime_minutes\": parse_runtime(meta.get(\"Runtime\", \"\")),\n",
    "\n",
    "        # MultiValued text fields (tokenized and copied for autocomplete)\n",
    "        \"directors\": ensure_list(meta.get(\"Director(s)\", [])),\n",
    "        \"writers\": ensure_list(meta.get(\"Writer(s)\", [])),\n",
    "        \"stars\": ensure_list(meta.get(\"Star(s)\", [])),\n",
    "        \"language\": ensure_list(meta.get(\"Language\", [])),\n",
    "        \"country_of_origin\": ensure_list(meta.get(\"Country_of_Origin\", [])),\n",
    "        \"release_date\" : parsed_date,\n",
    "        \"release_country\" : release_country\n",
    "    }\n",
    "\n",
    "    return doc"
   ]
  },
  {
   "cell_type": "code",
   "execution_count": null,
   "metadata": {},
   "outputs": [],
   "source": [
    "def prepare_solr_document_metadata(meta, body, movie_name):\n",
    "    def ensure_list(val):\n",
    "        return val if isinstance(val, list) else [val] if val else [\"N/A\"]\n",
    "\n",
    "    parsed_date, release_country = parse_release_date(meta.get(\"Release_Date\", \"\"))\n",
    "    \n",
    "    doc = {\n",
    "        \"id\": generate_doc_id(movie_name, body),\n",
    "        \"movie_name\": movie_name,\n",
    "        \"movie_name_autocomplete\": movie_name,\n",
    "\n",
    "        # Float/numeric fields\n",
    "        \"imdb_rating\": safe_float(meta.get(\"IMDB_Rating\", -1)),\n",
    "        \"metascore\": safe_float(meta.get(\"MetaScore\", -1)),\n",
    "        \"budget\": parse_currency(meta.get(\"Budget\", \"\")),\n",
    "        \"gross_worldwide\": parse_currency(meta.get(\"Gross worldwide\", \"\")),\n",
    "        \"runtime_minutes\": parse_runtime(meta.get(\"Runtime\", \"\")),\n",
    "\n",
    "        # MultiValued text fields (tokenized and copied for autocomplete)\n",
    "        \"directors\": ensure_list(meta.get(\"Director(s)\", [])),\n",
    "        \"writers\": ensure_list(meta.get(\"Writer(s)\", [])),\n",
    "        \"stars\": ensure_list(meta.get(\"Star(s)\", [])),\n",
    "        \"language\": ensure_list(meta.get(\"Language\", [])),\n",
    "        \"country_of_origin\": ensure_list(meta.get(\"Country_of_Origin\", [])),\n",
    "        \"release_date\" : parsed_date,\n",
    "        \"release_country\" : release_country\n",
    "    }\n",
    "\n",
    "    return doc"
   ]
  },
  {
   "cell_type": "markdown",
   "metadata": {},
   "source": [
    "### Indexing of Data -> moviereviewscore"
   ]
  },
  {
   "cell_type": "code",
   "execution_count": null,
   "metadata": {},
   "outputs": [],
   "source": [
    "with open(\"Final_Data/all_review_information_filtered.json\",\"r\") as f:\n",
    "    info = json.load(f)\n",
    "    \n",
    "with open(\"Final_Data/all_review_metadata_filtered.json\",\"r\") as f:\n",
    "    meta = json.load(f)\n",
    "    \n",
    "edge_cases = []\n",
    "    \n",
    "for movie_name in info:\n",
    "    if (movie_name not in list(meta.keys())):\n",
    "        edge_cases.append(movie_name)\n",
    "        \n",
    "if (len(edge_cases) == 0): # We are good to go for Indexing\n",
    "    \n",
    "    count = 0\n",
    "    final_count = 0\n",
    "\n",
    "    batch = []\n",
    "    for movie_title in info:\n",
    "\n",
    "        for review in info[movie_title]:\n",
    "            doc = prepare_solr_document(meta[movie_title], review['title'], review['body'], movie_title, review['upvotes'], review['downvotes'])\n",
    "            batch.append(doc)\n",
    "\n",
    "            if len(batch) == 500:\n",
    "                count += 500\n",
    "                solr.add(batch)\n",
    "                batch = []\n",
    "\n",
    "    # Add any remaining\n",
    "    if batch:\n",
    "        final_count += len(batch)\n",
    "        solr.add(batch)\n",
    "        print(f\"Final batch of {len(batch)} indexed.\")\n",
    "\n",
    "    print(\"Indexing complete!\")\n",
    "    print(f\"A total of {count + final_count} documents have been indexed!\")\n",
    "    \n",
    "else:\n",
    "    print(f\"Error prior to Indexing, there are {len(edge_cases)} movies which are erroneously present\")"
   ]
  },
  {
   "cell_type": "markdown",
   "metadata": {},
   "source": [
    "### Indexing of Data -> metadatacore"
   ]
  },
  {
   "cell_type": "code",
   "execution_count": null,
   "metadata": {},
   "outputs": [],
   "source": [
    "solr = pysolr.Solr('http://localhost:8983/solr/metadatacore', always_commit=True)\n",
    "\n",
    "response = solr.ping()\n",
    "parsed = json.loads(response)\n",
    "print(\"Solr Ping Status:\", parsed[\"status\"]) # Should be 'OK'\n",
    "print(\"Response Time (ms):\", parsed[\"responseHeader\"][\"QTime\"])"
   ]
  },
  {
   "cell_type": "code",
   "execution_count": null,
   "metadata": {},
   "outputs": [],
   "source": [
    "# ===== Following section is commented since the indexing was already done prior ===== #\n",
    "with open(\"Final_Data/all_review_information_filtered.json\",\"r\") as f:\n",
    "    info = json.load(f)\n",
    "    \n",
    "with open(\"Final_Data/all_review_metadata_filtered.json\",\"r\") as f:\n",
    "    meta = json.load(f)\n",
    "    \n",
    "edge_cases = []\n",
    "    \n",
    "for movie_name in info:\n",
    "    if (movie_name not in list(meta.keys())):\n",
    "        edge_cases.append(movie_name)\n",
    "        \n",
    "if (len(edge_cases) == 0): # We are good to go for Indexing\n",
    "    \n",
    "    count = 0\n",
    "    final_count = 0\n",
    "    \n",
    "    batch = []\n",
    "    for movie_title in info:\n",
    "\n",
    "        for review in info[movie_title]:\n",
    "            doc = prepare_solr_document_metadata(meta[movie_title], review['body'], movie_title)\n",
    "            batch.append(doc)\n",
    "\n",
    "            if len(batch) == 500:\n",
    "                solr.add(batch)\n",
    "                count += 500\n",
    "                batch = []\n",
    "\n",
    "    # Add any remaining\n",
    "    if batch:\n",
    "        solr.add(batch)\n",
    "        final_count += len(batch)\n",
    "        print(f\"Final batch of {len(batch)} indexed.\")\n",
    "    \n",
    "    print(\"Indexing complete!\")\n",
    "    print(f\"A total of {count + final_count} documents have been indexed!\")\n",
    "    \n",
    "else:\n",
    "    print(f\"Error prior to Indexing, there are {len(edge_cases)} movies which are erroneously present\")"
   ]
  },
  {
   "cell_type": "markdown",
   "metadata": {},
   "source": [
    "## Data Distribution Visualisation"
   ]
  },
  {
   "cell_type": "markdown",
   "metadata": {},
   "source": [
    "### Aggregation via Number of Reviews Per Movie"
   ]
  },
  {
   "cell_type": "code",
   "execution_count": 437,
   "metadata": {},
   "outputs": [
    {
     "name": "stdout",
     "output_type": "stream",
     "text": [
      "=== Raw Plot for Number of Reviews Per Movie ===\n",
      "\n"
     ]
    },
    {
     "data": {
      "application/vnd.plotly.v1+json": {
       "config": {
        "plotlyServerURL": "https://plot.ly"
       },
       "data": [
        {
         "hovertemplate": "Title=%{x}<br>Review Count=%{y}<extra></extra>",
         "legendgroup": "",
         "line": {
          "color": "#636efa",
          "dash": "solid"
         },
         "marker": {
          "symbol": "circle"
         },
         "mode": "lines",
         "name": "",
         "orientation": "v",
         "showlegend": false,
         "type": "scatter",
         "x": [
          "The House with No Address",
          "I 20",
          "The Platform 2",
          "The Assessment",
          "Aliens Uncovered: UFOs Over Arizona",
          "Previously Saved Version",
          "Teri Baaton Mein Aisa Uljha Jiya",
          "Captain Corpse",
          "Pandasaurus",
          "Kalki 2898 AD",
          "Star Abyss",
          "Lesbian Space Princess",
          "The Sanctum",
          "Megalopolis",
          "Tobias and the Arcane Merchant",
          "The Empire",
          "40 Acres",
          "Spark",
          "The Deadly Swarm",
          "Bionic",
          "Secret Within the Sphere",
          "Max Beyond",
          "The Day the Earth Blew Up: A Looney Tunes Movie",
          "SCP: The Infinite Mission",
          "Jon Vardar protiv Galaksijata",
          "Ghostbusters: Frozen Empire",
          "Ayalaan",
          "Black",
          "Jurassic Exorcist",
          "Babezilla vs the Cyber Skanks: Rise of MechaBabezilla",
          "Justice League: Crisis on Infinite Earths - Part One",
          "Buddy",
          "Justice League: Crisis on Infinite Earths - Part Three",
          "Ick",
          "The Secret of Pin-Up Island",
          "Test Screening",
          "The Shrouds",
          "Demons vs. Ghosts",
          "Light",
          "Dark Fusion",
          "TapewormZ",
          "Haze",
          "The Last Ronin",
          "Saturn",
          "Transient",
          "Best Cop Ever",
          "You Are Not Alone",
          "Year 10",
          "Mobile Suit Gundam SEED Freedom",
          "Neon Fear",
          "Uglies",
          "Lunacy",
          "Yesterday After Tomorrow",
          "Breathe",
          "The Captives",
          "Escape from the 21st Century",
          "Aftermath",
          "Alien: Rubicon",
          "Code 8: Part II",
          "Fight Another Day",
          "Alien: Romulus",
          "The Blinkless",
          "Aire, Just Breathe",
          "All the Lost Ones",
          "Creep Encounters",
          "Futra Days",
          "Alien AI: Abducted",
          "Slingshot",
          "He Has Gone Rogue - The Return of Cyrus",
          "Balestra",
          "Elevation",
          "Unspeakable: Beyond the Wall of Sleep",
          "Last Night on Earth",
          "Replika",
          "Timestalker",
          "Isleen Pines",
          "Indrani: Epic-1 Dharam vs Karam",
          "The Clearing",
          "Our Man in L.A.",
          "Taklee Genesis x Worlds Collide",
          "The Thinking Game",
          "Flashlight",
          "Nanoshark",
          "Mutant",
          "Street Trash",
          "South of Hope Street",
          "Alien Country",
          "Don't Say Earth",
          "Oculus",
          "Abaddon's Pit",
          "Guest from the Future",
          "One level higher",
          "UI",
          "Gaganachari",
          "Despicable Me 4",
          "Going Viral",
          "Tim Travers & the Time Travelers Paradox",
          "Maddhim",
          "Rahasyam Idham Jagath",
          "Love Me",
          "The Life of Chuck",
          "Tokusou Sentai Dekaranger 20th: Fireball Booster",
          "The Eye of the Salamander",
          "Night of the Skinwalkers",
          "It's What's Inside",
          "Another End",
          "Quadrant",
          "Justice League: Crisis on Infinite Earths - Part Two",
          "THEDÆMON",
          "Kingdom of the Planet of the Apes",
          "Metro9",
          "Sting",
          "Die Alone",
          "Bury Your Dead",
          "UmroAyyar - A New Beginning",
          "Sonic the Hedgehog 3",
          "Vampire's House of Cain",
          "Parallel",
          "Killer Witches from Outer Space",
          "Distant",
          "The Greatest Hits",
          "Wonderland",
          "Arena Wars",
          "How to Solve Your Own Murder",
          "Latency",
          "Borderlands",
          "Iron Nest of the Moon",
          "Apocalypse Z: The Beginning of the End",
          "Ultraman: Rising",
          "Captain Avispa",
          "Survive",
          "Kade",
          "J Loop",
          "Venom: The Last Dance",
          "Weapon",
          "Red vs. Blue: Restoration",
          "Alien Hunt",
          "Blink",
          "Megamind vs. The Doom Syndicate",
          "Maid Droid Origins",
          "Planetquake",
          "The Box",
          "Madame Web",
          "Uranus 2324",
          "Baby Invasion",
          "Vampire Zombies... From Space!",
          "The Phantom Warrior",
          "Terminator: Skynet Rising",
          "Subservience",
          "I Am Spaceman",
          "Meanwhile on Earth",
          "After Link",
          "Watchmen: Chapter I",
          "Permafrost",
          "Rich Flu",
          "Future Date",
          "Sci-Fi Vixens from Beyond",
          "Video Vision",
          "Project Dorothy",
          "Drive Back",
          "Can I Get a Witness",
          "Reversi",
          "Space Sharks",
          "Traces of Love",
          "The Invisibles",
          "She Loved Blossoms More",
          "Soul Traveler (The Feature)",
          "War of the Worlds: Extinction",
          "Earthquake Underground",
          "The Silent Planet",
          "Cora",
          "Kuramerukagari",
          "In Vitro",
          "Clone Cops",
          "Furiosa: A Mad Max Saga",
          "Boomerang",
          "Dead Dead Demon's Dededede Destruction",
          "Alien Love",
          "Afraid",
          "Y2K",
          "Deified the Legacy of Yesterday",
          "Alienoid: The Return to the Future",
          "Replicator",
          "Guacamole Yesterdays",
          "Behind the Bucket: A Garrison Story",
          "C'est le monde à l'envers !",
          "Lumina",
          "Rebel Moon - Part Two: The Scargiver",
          "Piraty galaktiki Barrakuda",
          "X Files",
          "Jurassic Triangle",
          "Ascension",
          "The Alien Report",
          "Brush of the God",
          "PW V: Tears of the Fallen",
          "It All Comes with the Cold Water",
          "Transformers One",
          "Gaami",
          "V/H/S/Beyond",
          "Transformers Prime: Galavatron's Revenge",
          "Caddo Lake",
          "Godzilla x Kong: The New Empire",
          "S.T.A.L.K.E.R.: Shadow of the Zone",
          "A Quiet Place: Day One",
          "The Worlds Divide",
          "Milestone",
          "Bade Miyan Chote Miyan",
          "Day of the Clones",
          "Good Neighbours",
          "The Substance",
          "Arcadian",
          "Space Frank",
          "Atlas",
          "Else",
          "Neon Girls",
          "The Bunker",
          "Trapped Inn",
          "Wallace & Gromit: Vengeance Most Fowl",
          "Black Eyed Susan",
          "Dune: Part Two",
          "Space Command Redemption",
          "Electric Child",
          "City Hunter",
          "Quantum Suicide",
          "Bob's Hops",
          "Through the Door",
          "Spaceman",
          "Tacoma",
          "Sentinel",
          "Doraemon the Movie: Nobita's Earth Symphony",
          "Double Ismart",
          "The Fix",
          "Ape X Mecha Ape: New World Order",
          "Big City Greens the Movie: Spacecation",
          "The Wild Robot",
          "Buying Time",
          "Kadaisi Ulaga Por",
          "Time Cut",
          "The Thundermans Return",
          "Canadian, Sniper",
          "Omni Loop",
          "Things Will Be Different",
          "Bureau 749",
          "Remnant",
          "Ghost Planet",
          "Sith Wars: Episódio III - Fantasmas Dos Sith",
          "My Hero Academia: You're Next",
          "Room 0",
          "Aiden",
          "Deadpool & Wolverine",
          "The Strange Dark",
          "The End",
          "Arctic Hollow",
          "No Time to Spy: A Loud House Movie",
          "U Are the Universe",
          "Agent Recon",
          "Watchmen: Chapter II",
          "Daniela Forever",
          "Levels",
          "Don't F**k with Ghosts",
          "Dead Talk Tales: Volume I",
          "Turn Me On",
          "Raduaa Returns",
          "Alien",
          "Badland Hunters",
          "Justicia artificial",
          "Friends of Sophia",
          "Guy Manley: Super Spy",
          "Mummy Shark",
          "Bharatiya Superheroes the Origin",
          "Operation War Thunder",
          "Offworld: Alien Planet"
         ],
         "xaxis": "x",
         "y": [
          1,
          3,
          211,
          9,
          5,
          10,
          161,
          3,
          1,
          899,
          3,
          2,
          1,
          550,
          3,
          9,
          4,
          2,
          2,
          11,
          1,
          5,
          61,
          3,
          5,
          750,
          31,
          28,
          1,
          4,
          76,
          4,
          47,
          5,
          8,
          3,
          7,
          1,
          25,
          6,
          1,
          1,
          3,
          1,
          11,
          3,
          1,
          19,
          15,
          4,
          389,
          3,
          3,
          64,
          3,
          5,
          6,
          19,
          89,
          1,
          2123,
          2,
          1,
          4,
          3,
          1,
          2,
          102,
          2,
          3,
          225,
          2,
          7,
          1,
          23,
          5,
          2,
          1,
          5,
          4,
          2,
          1,
          1,
          1,
          14,
          8,
          12,
          1,
          2,
          2,
          13,
          1,
          103,
          20,
          333,
          2,
          14,
          3,
          1,
          27,
          3,
          1,
          2,
          10,
          212,
          4,
          3,
          36,
          1,
          715,
          1,
          152,
          44,
          1,
          68,
          433,
          1,
          39,
          4,
          46,
          45,
          30,
          28,
          1,
          18,
          604,
          5,
          114,
          44,
          3,
          54,
          1,
          1,
          574,
          7,
          2,
          4,
          49,
          144,
          9,
          10,
          1,
          1364,
          74,
          9,
          2,
          3,
          16,
          232,
          3,
          11,
          2,
          43,
          9,
          36,
          1,
          1,
          2,
          13,
          3,
          4,
          1,
          25,
          2,
          7,
          1,
          3,
          6,
          3,
          4,
          5,
          1,
          4,
          5,
          1158,
          8,
          1,
          9,
          118,
          130,
          17,
          10,
          6,
          1,
          4,
          1,
          57,
          775,
          1,
          1,
          9,
          6,
          5,
          1,
          1,
          2,
          400,
          32,
          85,
          1,
          245,
          850,
          11,
          1237,
          1,
          7,
          190,
          7,
          1,
          2186,
          258,
          1,
          832,
          2,
          2,
          1,
          71,
          139,
          7,
          2721,
          4,
          1,
          36,
          2,
          1,
          2,
          524,
          3,
          32,
          10,
          21,
          34,
          4,
          10,
          880,
          5,
          19,
          168,
          51,
          4,
          27,
          27,
          16,
          2,
          51,
          5,
          23,
          14,
          7,
          2198,
          3,
          24,
          11,
          16,
          4,
          21,
          16,
          2,
          27,
          8,
          1,
          6,
          4,
          1,
          41,
          2,
          1,
          6,
          3,
          3,
          6,
          2
         ],
         "yaxis": "y"
        }
       ],
       "layout": {
        "legend": {
         "tracegroupgap": 0
        },
        "template": {
         "data": {
          "bar": [
           {
            "error_x": {
             "color": "#2a3f5f"
            },
            "error_y": {
             "color": "#2a3f5f"
            },
            "marker": {
             "line": {
              "color": "#E5ECF6",
              "width": 0.5
             },
             "pattern": {
              "fillmode": "overlay",
              "size": 10,
              "solidity": 0.2
             }
            },
            "type": "bar"
           }
          ],
          "barpolar": [
           {
            "marker": {
             "line": {
              "color": "#E5ECF6",
              "width": 0.5
             },
             "pattern": {
              "fillmode": "overlay",
              "size": 10,
              "solidity": 0.2
             }
            },
            "type": "barpolar"
           }
          ],
          "carpet": [
           {
            "aaxis": {
             "endlinecolor": "#2a3f5f",
             "gridcolor": "white",
             "linecolor": "white",
             "minorgridcolor": "white",
             "startlinecolor": "#2a3f5f"
            },
            "baxis": {
             "endlinecolor": "#2a3f5f",
             "gridcolor": "white",
             "linecolor": "white",
             "minorgridcolor": "white",
             "startlinecolor": "#2a3f5f"
            },
            "type": "carpet"
           }
          ],
          "choropleth": [
           {
            "colorbar": {
             "outlinewidth": 0,
             "ticks": ""
            },
            "type": "choropleth"
           }
          ],
          "contour": [
           {
            "colorbar": {
             "outlinewidth": 0,
             "ticks": ""
            },
            "colorscale": [
             [
              0,
              "#0d0887"
             ],
             [
              0.1111111111111111,
              "#46039f"
             ],
             [
              0.2222222222222222,
              "#7201a8"
             ],
             [
              0.3333333333333333,
              "#9c179e"
             ],
             [
              0.4444444444444444,
              "#bd3786"
             ],
             [
              0.5555555555555556,
              "#d8576b"
             ],
             [
              0.6666666666666666,
              "#ed7953"
             ],
             [
              0.7777777777777778,
              "#fb9f3a"
             ],
             [
              0.8888888888888888,
              "#fdca26"
             ],
             [
              1,
              "#f0f921"
             ]
            ],
            "type": "contour"
           }
          ],
          "contourcarpet": [
           {
            "colorbar": {
             "outlinewidth": 0,
             "ticks": ""
            },
            "type": "contourcarpet"
           }
          ],
          "heatmap": [
           {
            "colorbar": {
             "outlinewidth": 0,
             "ticks": ""
            },
            "colorscale": [
             [
              0,
              "#0d0887"
             ],
             [
              0.1111111111111111,
              "#46039f"
             ],
             [
              0.2222222222222222,
              "#7201a8"
             ],
             [
              0.3333333333333333,
              "#9c179e"
             ],
             [
              0.4444444444444444,
              "#bd3786"
             ],
             [
              0.5555555555555556,
              "#d8576b"
             ],
             [
              0.6666666666666666,
              "#ed7953"
             ],
             [
              0.7777777777777778,
              "#fb9f3a"
             ],
             [
              0.8888888888888888,
              "#fdca26"
             ],
             [
              1,
              "#f0f921"
             ]
            ],
            "type": "heatmap"
           }
          ],
          "heatmapgl": [
           {
            "colorbar": {
             "outlinewidth": 0,
             "ticks": ""
            },
            "colorscale": [
             [
              0,
              "#0d0887"
             ],
             [
              0.1111111111111111,
              "#46039f"
             ],
             [
              0.2222222222222222,
              "#7201a8"
             ],
             [
              0.3333333333333333,
              "#9c179e"
             ],
             [
              0.4444444444444444,
              "#bd3786"
             ],
             [
              0.5555555555555556,
              "#d8576b"
             ],
             [
              0.6666666666666666,
              "#ed7953"
             ],
             [
              0.7777777777777778,
              "#fb9f3a"
             ],
             [
              0.8888888888888888,
              "#fdca26"
             ],
             [
              1,
              "#f0f921"
             ]
            ],
            "type": "heatmapgl"
           }
          ],
          "histogram": [
           {
            "marker": {
             "pattern": {
              "fillmode": "overlay",
              "size": 10,
              "solidity": 0.2
             }
            },
            "type": "histogram"
           }
          ],
          "histogram2d": [
           {
            "colorbar": {
             "outlinewidth": 0,
             "ticks": ""
            },
            "colorscale": [
             [
              0,
              "#0d0887"
             ],
             [
              0.1111111111111111,
              "#46039f"
             ],
             [
              0.2222222222222222,
              "#7201a8"
             ],
             [
              0.3333333333333333,
              "#9c179e"
             ],
             [
              0.4444444444444444,
              "#bd3786"
             ],
             [
              0.5555555555555556,
              "#d8576b"
             ],
             [
              0.6666666666666666,
              "#ed7953"
             ],
             [
              0.7777777777777778,
              "#fb9f3a"
             ],
             [
              0.8888888888888888,
              "#fdca26"
             ],
             [
              1,
              "#f0f921"
             ]
            ],
            "type": "histogram2d"
           }
          ],
          "histogram2dcontour": [
           {
            "colorbar": {
             "outlinewidth": 0,
             "ticks": ""
            },
            "colorscale": [
             [
              0,
              "#0d0887"
             ],
             [
              0.1111111111111111,
              "#46039f"
             ],
             [
              0.2222222222222222,
              "#7201a8"
             ],
             [
              0.3333333333333333,
              "#9c179e"
             ],
             [
              0.4444444444444444,
              "#bd3786"
             ],
             [
              0.5555555555555556,
              "#d8576b"
             ],
             [
              0.6666666666666666,
              "#ed7953"
             ],
             [
              0.7777777777777778,
              "#fb9f3a"
             ],
             [
              0.8888888888888888,
              "#fdca26"
             ],
             [
              1,
              "#f0f921"
             ]
            ],
            "type": "histogram2dcontour"
           }
          ],
          "mesh3d": [
           {
            "colorbar": {
             "outlinewidth": 0,
             "ticks": ""
            },
            "type": "mesh3d"
           }
          ],
          "parcoords": [
           {
            "line": {
             "colorbar": {
              "outlinewidth": 0,
              "ticks": ""
             }
            },
            "type": "parcoords"
           }
          ],
          "pie": [
           {
            "automargin": true,
            "type": "pie"
           }
          ],
          "scatter": [
           {
            "fillpattern": {
             "fillmode": "overlay",
             "size": 10,
             "solidity": 0.2
            },
            "type": "scatter"
           }
          ],
          "scatter3d": [
           {
            "line": {
             "colorbar": {
              "outlinewidth": 0,
              "ticks": ""
             }
            },
            "marker": {
             "colorbar": {
              "outlinewidth": 0,
              "ticks": ""
             }
            },
            "type": "scatter3d"
           }
          ],
          "scattercarpet": [
           {
            "marker": {
             "colorbar": {
              "outlinewidth": 0,
              "ticks": ""
             }
            },
            "type": "scattercarpet"
           }
          ],
          "scattergeo": [
           {
            "marker": {
             "colorbar": {
              "outlinewidth": 0,
              "ticks": ""
             }
            },
            "type": "scattergeo"
           }
          ],
          "scattergl": [
           {
            "marker": {
             "colorbar": {
              "outlinewidth": 0,
              "ticks": ""
             }
            },
            "type": "scattergl"
           }
          ],
          "scattermapbox": [
           {
            "marker": {
             "colorbar": {
              "outlinewidth": 0,
              "ticks": ""
             }
            },
            "type": "scattermapbox"
           }
          ],
          "scatterpolar": [
           {
            "marker": {
             "colorbar": {
              "outlinewidth": 0,
              "ticks": ""
             }
            },
            "type": "scatterpolar"
           }
          ],
          "scatterpolargl": [
           {
            "marker": {
             "colorbar": {
              "outlinewidth": 0,
              "ticks": ""
             }
            },
            "type": "scatterpolargl"
           }
          ],
          "scatterternary": [
           {
            "marker": {
             "colorbar": {
              "outlinewidth": 0,
              "ticks": ""
             }
            },
            "type": "scatterternary"
           }
          ],
          "surface": [
           {
            "colorbar": {
             "outlinewidth": 0,
             "ticks": ""
            },
            "colorscale": [
             [
              0,
              "#0d0887"
             ],
             [
              0.1111111111111111,
              "#46039f"
             ],
             [
              0.2222222222222222,
              "#7201a8"
             ],
             [
              0.3333333333333333,
              "#9c179e"
             ],
             [
              0.4444444444444444,
              "#bd3786"
             ],
             [
              0.5555555555555556,
              "#d8576b"
             ],
             [
              0.6666666666666666,
              "#ed7953"
             ],
             [
              0.7777777777777778,
              "#fb9f3a"
             ],
             [
              0.8888888888888888,
              "#fdca26"
             ],
             [
              1,
              "#f0f921"
             ]
            ],
            "type": "surface"
           }
          ],
          "table": [
           {
            "cells": {
             "fill": {
              "color": "#EBF0F8"
             },
             "line": {
              "color": "white"
             }
            },
            "header": {
             "fill": {
              "color": "#C8D4E3"
             },
             "line": {
              "color": "white"
             }
            },
            "type": "table"
           }
          ]
         },
         "layout": {
          "annotationdefaults": {
           "arrowcolor": "#2a3f5f",
           "arrowhead": 0,
           "arrowwidth": 1
          },
          "autotypenumbers": "strict",
          "coloraxis": {
           "colorbar": {
            "outlinewidth": 0,
            "ticks": ""
           }
          },
          "colorscale": {
           "diverging": [
            [
             0,
             "#8e0152"
            ],
            [
             0.1,
             "#c51b7d"
            ],
            [
             0.2,
             "#de77ae"
            ],
            [
             0.3,
             "#f1b6da"
            ],
            [
             0.4,
             "#fde0ef"
            ],
            [
             0.5,
             "#f7f7f7"
            ],
            [
             0.6,
             "#e6f5d0"
            ],
            [
             0.7,
             "#b8e186"
            ],
            [
             0.8,
             "#7fbc41"
            ],
            [
             0.9,
             "#4d9221"
            ],
            [
             1,
             "#276419"
            ]
           ],
           "sequential": [
            [
             0,
             "#0d0887"
            ],
            [
             0.1111111111111111,
             "#46039f"
            ],
            [
             0.2222222222222222,
             "#7201a8"
            ],
            [
             0.3333333333333333,
             "#9c179e"
            ],
            [
             0.4444444444444444,
             "#bd3786"
            ],
            [
             0.5555555555555556,
             "#d8576b"
            ],
            [
             0.6666666666666666,
             "#ed7953"
            ],
            [
             0.7777777777777778,
             "#fb9f3a"
            ],
            [
             0.8888888888888888,
             "#fdca26"
            ],
            [
             1,
             "#f0f921"
            ]
           ],
           "sequentialminus": [
            [
             0,
             "#0d0887"
            ],
            [
             0.1111111111111111,
             "#46039f"
            ],
            [
             0.2222222222222222,
             "#7201a8"
            ],
            [
             0.3333333333333333,
             "#9c179e"
            ],
            [
             0.4444444444444444,
             "#bd3786"
            ],
            [
             0.5555555555555556,
             "#d8576b"
            ],
            [
             0.6666666666666666,
             "#ed7953"
            ],
            [
             0.7777777777777778,
             "#fb9f3a"
            ],
            [
             0.8888888888888888,
             "#fdca26"
            ],
            [
             1,
             "#f0f921"
            ]
           ]
          },
          "colorway": [
           "#636efa",
           "#EF553B",
           "#00cc96",
           "#ab63fa",
           "#FFA15A",
           "#19d3f3",
           "#FF6692",
           "#B6E880",
           "#FF97FF",
           "#FECB52"
          ],
          "font": {
           "color": "#2a3f5f"
          },
          "geo": {
           "bgcolor": "white",
           "lakecolor": "white",
           "landcolor": "#E5ECF6",
           "showlakes": true,
           "showland": true,
           "subunitcolor": "white"
          },
          "hoverlabel": {
           "align": "left"
          },
          "hovermode": "closest",
          "mapbox": {
           "style": "light"
          },
          "paper_bgcolor": "white",
          "plot_bgcolor": "#E5ECF6",
          "polar": {
           "angularaxis": {
            "gridcolor": "white",
            "linecolor": "white",
            "ticks": ""
           },
           "bgcolor": "#E5ECF6",
           "radialaxis": {
            "gridcolor": "white",
            "linecolor": "white",
            "ticks": ""
           }
          },
          "scene": {
           "xaxis": {
            "backgroundcolor": "#E5ECF6",
            "gridcolor": "white",
            "gridwidth": 2,
            "linecolor": "white",
            "showbackground": true,
            "ticks": "",
            "zerolinecolor": "white"
           },
           "yaxis": {
            "backgroundcolor": "#E5ECF6",
            "gridcolor": "white",
            "gridwidth": 2,
            "linecolor": "white",
            "showbackground": true,
            "ticks": "",
            "zerolinecolor": "white"
           },
           "zaxis": {
            "backgroundcolor": "#E5ECF6",
            "gridcolor": "white",
            "gridwidth": 2,
            "linecolor": "white",
            "showbackground": true,
            "ticks": "",
            "zerolinecolor": "white"
           }
          },
          "shapedefaults": {
           "line": {
            "color": "#2a3f5f"
           }
          },
          "ternary": {
           "aaxis": {
            "gridcolor": "white",
            "linecolor": "white",
            "ticks": ""
           },
           "baxis": {
            "gridcolor": "white",
            "linecolor": "white",
            "ticks": ""
           },
           "bgcolor": "#E5ECF6",
           "caxis": {
            "gridcolor": "white",
            "linecolor": "white",
            "ticks": ""
           }
          },
          "title": {
           "x": 0.05
          },
          "xaxis": {
           "automargin": true,
           "gridcolor": "white",
           "linecolor": "white",
           "ticks": "",
           "title": {
            "standoff": 15
           },
           "zerolinecolor": "white",
           "zerolinewidth": 2
          },
          "yaxis": {
           "automargin": true,
           "gridcolor": "white",
           "linecolor": "white",
           "ticks": "",
           "title": {
            "standoff": 15
           },
           "zerolinecolor": "white",
           "zerolinewidth": 2
          }
         }
        },
        "title": {
         "text": "Box Plot of Review Counts per Movie"
        },
        "xaxis": {
         "anchor": "y",
         "domain": [
          0,
          1
         ],
         "title": {
          "text": "Title"
         }
        },
        "yaxis": {
         "anchor": "x",
         "domain": [
          0,
          1
         ],
         "title": {
          "text": "Review Count"
         }
        }
       }
      }
     },
     "metadata": {},
     "output_type": "display_data"
    }
   ],
   "source": [
    "with open(\"Final_Data/all_review_information_filtered.json\",\"r\") as f:\n",
    "    info = json.load(f)\n",
    "\n",
    "review_count_per_movie = {}\n",
    "upvote_downvote_per_review = {}\n",
    "for title, reviews in info.items():\n",
    "    review_count_per_movie[title] = len(reviews)\n",
    "\n",
    "new_df = pd.DataFrame(columns = ['Title','Number of Reviews'])\n",
    "new_df['Title'] = list(review_count_per_movie.keys())\n",
    "new_df['Number of Reviews'] = list(review_count_per_movie.values())\n",
    "print(\"=== Raw Plot for Number of Reviews Per Movie ===\\n\")\n",
    "\n",
    "fig = px.line(\n",
    "    new_df,\n",
    "    x=\"Title\",\n",
    "    y=\"Number of Reviews\",\n",
    "    title=\"Box Plot of Review Counts per Movie\",\n",
    "    labels={\"Number of Reviews\": \"Review Count\"}\n",
    ")\n",
    "fig.show()"
   ]
  },
  {
   "cell_type": "markdown",
   "metadata": {},
   "source": [
    "### We implement Log-Normalisation to view the trend better"
   ]
  },
  {
   "cell_type": "code",
   "execution_count": 438,
   "metadata": {},
   "outputs": [
    {
     "name": "stdout",
     "output_type": "stream",
     "text": [
      "=== Raw Plot for Log-Scaled Number of Reviews Per Movie ===\n",
      "\n"
     ]
    },
    {
     "data": {
      "application/vnd.plotly.v1+json": {
       "config": {
        "plotlyServerURL": "https://plot.ly"
       },
       "data": [
        {
         "alignmentgroup": "True",
         "bingroup": "x",
         "histfunc": "sum",
         "hovertemplate": "Title=%{x}<br>sum of log(1 + Review Count)=%{y}<extra></extra>",
         "legendgroup": "",
         "marker": {
          "color": "#636efa",
          "pattern": {
           "shape": ""
          }
         },
         "name": "",
         "nbinsx": 50,
         "offsetgroup": "",
         "orientation": "v",
         "showlegend": false,
         "type": "histogram",
         "x": [
          "The House with No Address",
          "I 20",
          "The Platform 2",
          "The Assessment",
          "Aliens Uncovered: UFOs Over Arizona",
          "Previously Saved Version",
          "Teri Baaton Mein Aisa Uljha Jiya",
          "Captain Corpse",
          "Pandasaurus",
          "Kalki 2898 AD",
          "Star Abyss",
          "Lesbian Space Princess",
          "The Sanctum",
          "Megalopolis",
          "Tobias and the Arcane Merchant",
          "The Empire",
          "40 Acres",
          "Spark",
          "The Deadly Swarm",
          "Bionic",
          "Secret Within the Sphere",
          "Max Beyond",
          "The Day the Earth Blew Up: A Looney Tunes Movie",
          "SCP: The Infinite Mission",
          "Jon Vardar protiv Galaksijata",
          "Ghostbusters: Frozen Empire",
          "Ayalaan",
          "Black",
          "Jurassic Exorcist",
          "Babezilla vs the Cyber Skanks: Rise of MechaBabezilla",
          "Justice League: Crisis on Infinite Earths - Part One",
          "Buddy",
          "Justice League: Crisis on Infinite Earths - Part Three",
          "Ick",
          "The Secret of Pin-Up Island",
          "Test Screening",
          "The Shrouds",
          "Demons vs. Ghosts",
          "Light",
          "Dark Fusion",
          "TapewormZ",
          "Haze",
          "The Last Ronin",
          "Saturn",
          "Transient",
          "Best Cop Ever",
          "You Are Not Alone",
          "Year 10",
          "Mobile Suit Gundam SEED Freedom",
          "Neon Fear",
          "Uglies",
          "Lunacy",
          "Yesterday After Tomorrow",
          "Breathe",
          "The Captives",
          "Escape from the 21st Century",
          "Aftermath",
          "Alien: Rubicon",
          "Code 8: Part II",
          "Fight Another Day",
          "Alien: Romulus",
          "The Blinkless",
          "Aire, Just Breathe",
          "All the Lost Ones",
          "Creep Encounters",
          "Futra Days",
          "Alien AI: Abducted",
          "Slingshot",
          "He Has Gone Rogue - The Return of Cyrus",
          "Balestra",
          "Elevation",
          "Unspeakable: Beyond the Wall of Sleep",
          "Last Night on Earth",
          "Replika",
          "Timestalker",
          "Isleen Pines",
          "Indrani: Epic-1 Dharam vs Karam",
          "The Clearing",
          "Our Man in L.A.",
          "Taklee Genesis x Worlds Collide",
          "The Thinking Game",
          "Flashlight",
          "Nanoshark",
          "Mutant",
          "Street Trash",
          "South of Hope Street",
          "Alien Country",
          "Don't Say Earth",
          "Oculus",
          "Abaddon's Pit",
          "Guest from the Future",
          "One level higher",
          "UI",
          "Gaganachari",
          "Despicable Me 4",
          "Going Viral",
          "Tim Travers & the Time Travelers Paradox",
          "Maddhim",
          "Rahasyam Idham Jagath",
          "Love Me",
          "The Life of Chuck",
          "Tokusou Sentai Dekaranger 20th: Fireball Booster",
          "The Eye of the Salamander",
          "Night of the Skinwalkers",
          "It's What's Inside",
          "Another End",
          "Quadrant",
          "Justice League: Crisis on Infinite Earths - Part Two",
          "THEDÆMON",
          "Kingdom of the Planet of the Apes",
          "Metro9",
          "Sting",
          "Die Alone",
          "Bury Your Dead",
          "UmroAyyar - A New Beginning",
          "Sonic the Hedgehog 3",
          "Vampire's House of Cain",
          "Parallel",
          "Killer Witches from Outer Space",
          "Distant",
          "The Greatest Hits",
          "Wonderland",
          "Arena Wars",
          "How to Solve Your Own Murder",
          "Latency",
          "Borderlands",
          "Iron Nest of the Moon",
          "Apocalypse Z: The Beginning of the End",
          "Ultraman: Rising",
          "Captain Avispa",
          "Survive",
          "Kade",
          "J Loop",
          "Venom: The Last Dance",
          "Weapon",
          "Red vs. Blue: Restoration",
          "Alien Hunt",
          "Blink",
          "Megamind vs. The Doom Syndicate",
          "Maid Droid Origins",
          "Planetquake",
          "The Box",
          "Madame Web",
          "Uranus 2324",
          "Baby Invasion",
          "Vampire Zombies... From Space!",
          "The Phantom Warrior",
          "Terminator: Skynet Rising",
          "Subservience",
          "I Am Spaceman",
          "Meanwhile on Earth",
          "After Link",
          "Watchmen: Chapter I",
          "Permafrost",
          "Rich Flu",
          "Future Date",
          "Sci-Fi Vixens from Beyond",
          "Video Vision",
          "Project Dorothy",
          "Drive Back",
          "Can I Get a Witness",
          "Reversi",
          "Space Sharks",
          "Traces of Love",
          "The Invisibles",
          "She Loved Blossoms More",
          "Soul Traveler (The Feature)",
          "War of the Worlds: Extinction",
          "Earthquake Underground",
          "The Silent Planet",
          "Cora",
          "Kuramerukagari",
          "In Vitro",
          "Clone Cops",
          "Furiosa: A Mad Max Saga",
          "Boomerang",
          "Dead Dead Demon's Dededede Destruction",
          "Alien Love",
          "Afraid",
          "Y2K",
          "Deified the Legacy of Yesterday",
          "Alienoid: The Return to the Future",
          "Replicator",
          "Guacamole Yesterdays",
          "Behind the Bucket: A Garrison Story",
          "C'est le monde à l'envers !",
          "Lumina",
          "Rebel Moon - Part Two: The Scargiver",
          "Piraty galaktiki Barrakuda",
          "X Files",
          "Jurassic Triangle",
          "Ascension",
          "The Alien Report",
          "Brush of the God",
          "PW V: Tears of the Fallen",
          "It All Comes with the Cold Water",
          "Transformers One",
          "Gaami",
          "V/H/S/Beyond",
          "Transformers Prime: Galavatron's Revenge",
          "Caddo Lake",
          "Godzilla x Kong: The New Empire",
          "S.T.A.L.K.E.R.: Shadow of the Zone",
          "A Quiet Place: Day One",
          "The Worlds Divide",
          "Milestone",
          "Bade Miyan Chote Miyan",
          "Day of the Clones",
          "Good Neighbours",
          "The Substance",
          "Arcadian",
          "Space Frank",
          "Atlas",
          "Else",
          "Neon Girls",
          "The Bunker",
          "Trapped Inn",
          "Wallace & Gromit: Vengeance Most Fowl",
          "Black Eyed Susan",
          "Dune: Part Two",
          "Space Command Redemption",
          "Electric Child",
          "City Hunter",
          "Quantum Suicide",
          "Bob's Hops",
          "Through the Door",
          "Spaceman",
          "Tacoma",
          "Sentinel",
          "Doraemon the Movie: Nobita's Earth Symphony",
          "Double Ismart",
          "The Fix",
          "Ape X Mecha Ape: New World Order",
          "Big City Greens the Movie: Spacecation",
          "The Wild Robot",
          "Buying Time",
          "Kadaisi Ulaga Por",
          "Time Cut",
          "The Thundermans Return",
          "Canadian, Sniper",
          "Omni Loop",
          "Things Will Be Different",
          "Bureau 749",
          "Remnant",
          "Ghost Planet",
          "Sith Wars: Episódio III - Fantasmas Dos Sith",
          "My Hero Academia: You're Next",
          "Room 0",
          "Aiden",
          "Deadpool & Wolverine",
          "The Strange Dark",
          "The End",
          "Arctic Hollow",
          "No Time to Spy: A Loud House Movie",
          "U Are the Universe",
          "Agent Recon",
          "Watchmen: Chapter II",
          "Daniela Forever",
          "Levels",
          "Don't F**k with Ghosts",
          "Dead Talk Tales: Volume I",
          "Turn Me On",
          "Raduaa Returns",
          "Alien",
          "Badland Hunters",
          "Justicia artificial",
          "Friends of Sophia",
          "Guy Manley: Super Spy",
          "Mummy Shark",
          "Bharatiya Superheroes the Origin",
          "Operation War Thunder",
          "Offworld: Alien Planet"
         ],
         "xaxis": "x",
         "y": [
          0.6931471805599453,
          1.3862943611198906,
          5.356586274672012,
          2.302585092994046,
          1.791759469228055,
          2.3978952727983707,
          5.087596335232384,
          1.3862943611198906,
          0.6931471805599453,
          6.802394763324311,
          1.3862943611198906,
          1.0986122886681098,
          0.6931471805599453,
          6.311734809152915,
          1.3862943611198906,
          2.302585092994046,
          1.6094379124341003,
          1.0986122886681098,
          1.0986122886681098,
          2.4849066497880004,
          0.6931471805599453,
          1.791759469228055,
          4.127134385045092,
          1.3862943611198906,
          1.791759469228055,
          6.621405651764134,
          3.4657359027997265,
          3.367295829986474,
          0.6931471805599453,
          1.6094379124341003,
          4.343805421853684,
          1.6094379124341003,
          3.871201010907891,
          1.791759469228055,
          2.1972245773362196,
          1.3862943611198906,
          2.0794415416798357,
          0.6931471805599453,
          3.258096538021482,
          1.9459101490553132,
          0.6931471805599453,
          0.6931471805599453,
          1.3862943611198906,
          0.6931471805599453,
          2.4849066497880004,
          1.3862943611198906,
          0.6931471805599453,
          2.995732273553991,
          2.772588722239781,
          1.6094379124341003,
          5.966146739123692,
          1.3862943611198906,
          1.3862943611198906,
          4.174387269895637,
          1.3862943611198906,
          1.791759469228055,
          1.9459101490553132,
          2.995732273553991,
          4.499809670330265,
          0.6931471805599453,
          7.66105638236183,
          1.0986122886681098,
          0.6931471805599453,
          1.6094379124341003,
          1.3862943611198906,
          0.6931471805599453,
          1.0986122886681098,
          4.634728988229636,
          1.0986122886681098,
          1.3862943611198906,
          5.420534999272286,
          1.0986122886681098,
          2.0794415416798357,
          0.6931471805599453,
          3.1780538303479458,
          1.791759469228055,
          1.0986122886681098,
          0.6931471805599453,
          1.791759469228055,
          1.6094379124341003,
          1.0986122886681098,
          0.6931471805599453,
          0.6931471805599453,
          0.6931471805599453,
          2.70805020110221,
          2.1972245773362196,
          2.5649493574615367,
          0.6931471805599453,
          1.0986122886681098,
          1.0986122886681098,
          2.6390573296152584,
          0.6931471805599453,
          4.6443908991413725,
          3.044522437723423,
          5.811140992976701,
          1.0986122886681098,
          2.70805020110221,
          1.3862943611198906,
          0.6931471805599453,
          3.332204510175204,
          1.3862943611198906,
          0.6931471805599453,
          1.0986122886681098,
          2.3978952727983707,
          5.3612921657094255,
          1.6094379124341003,
          1.3862943611198906,
          3.6109179126442243,
          0.6931471805599453,
          6.573680166960646,
          0.6931471805599453,
          5.030437921392435,
          3.8066624897703196,
          0.6931471805599453,
          4.23410650459726,
          6.073044534100405,
          0.6931471805599453,
          3.6888794541139363,
          1.6094379124341003,
          3.8501476017100584,
          3.828641396489095,
          3.4339872044851463,
          3.367295829986474,
          0.6931471805599453,
          2.9444389791664403,
          6.405228458030842,
          1.791759469228055,
          4.74493212836325,
          3.8066624897703196,
          1.3862943611198906,
          4.007333185232471,
          0.6931471805599453,
          0.6931471805599453,
          6.354370040797351,
          2.0794415416798357,
          1.0986122886681098,
          1.6094379124341003,
          3.912023005428146,
          4.976733742420574,
          2.302585092994046,
          2.3978952727983707,
          0.6931471805599453,
          7.21890970761906,
          4.31748811353631,
          2.302585092994046,
          1.0986122886681098,
          1.3862943611198906,
          2.833213344056216,
          5.4510384535657,
          1.3862943611198906,
          2.4849066497880004,
          1.0986122886681098,
          3.784189633918261,
          2.302585092994046,
          3.6109179126442243,
          0.6931471805599453,
          0.6931471805599453,
          1.0986122886681098,
          2.6390573296152584,
          1.3862943611198906,
          1.6094379124341003,
          0.6931471805599453,
          3.258096538021482,
          1.0986122886681098,
          2.0794415416798357,
          0.6931471805599453,
          1.3862943611198906,
          1.9459101490553132,
          1.3862943611198906,
          1.6094379124341003,
          1.791759469228055,
          0.6931471805599453,
          1.6094379124341003,
          1.791759469228055,
          7.055312843339752,
          2.1972245773362196,
          0.6931471805599453,
          2.302585092994046,
          4.77912349311153,
          4.875197323201151,
          2.8903717578961645,
          2.3978952727983707,
          1.9459101490553132,
          0.6931471805599453,
          1.6094379124341003,
          0.6931471805599453,
          4.060443010546419,
          6.654152520183219,
          0.6931471805599453,
          0.6931471805599453,
          2.302585092994046,
          1.9459101490553132,
          1.791759469228055,
          0.6931471805599453,
          0.6931471805599453,
          1.0986122886681098,
          5.993961427306569,
          3.4965075614664802,
          4.454347296253507,
          0.6931471805599453,
          5.5053315359323625,
          6.7464121285733745,
          2.4849066497880004,
          7.121252453244542,
          0.6931471805599453,
          2.0794415416798357,
          5.25227342804663,
          2.0794415416798357,
          0.6931471805599453,
          7.690286020676768,
          5.556828061699537,
          0.6931471805599453,
          6.725033642166843,
          1.0986122886681098,
          1.0986122886681098,
          0.6931471805599453,
          4.276666119016055,
          4.941642422609304,
          2.0794415416798357,
          7.909122183211411,
          1.6094379124341003,
          0.6931471805599453,
          3.6109179126442243,
          1.0986122886681098,
          0.6931471805599453,
          1.0986122886681098,
          6.263398262591624,
          1.3862943611198906,
          3.4965075614664802,
          2.3978952727983707,
          3.091042453358316,
          3.5553480614894135,
          1.6094379124341003,
          2.3978952727983707,
          6.78105762593618,
          1.791759469228055,
          2.995732273553991,
          5.1298987149230735,
          3.9512437185814275,
          1.6094379124341003,
          3.332204510175204,
          3.332204510175204,
          2.833213344056216,
          1.0986122886681098,
          3.9512437185814275,
          1.791759469228055,
          3.1780538303479458,
          2.70805020110221,
          2.0794415416798357,
          7.695757990554761,
          1.3862943611198906,
          3.2188758248682006,
          2.4849066497880004,
          2.833213344056216,
          1.6094379124341003,
          3.091042453358316,
          2.833213344056216,
          1.0986122886681098,
          3.332204510175204,
          2.1972245773362196,
          0.6931471805599453,
          1.9459101490553132,
          1.6094379124341003,
          0.6931471805599453,
          3.7376696182833684,
          1.0986122886681098,
          0.6931471805599453,
          1.9459101490553132,
          1.3862943611198906,
          1.3862943611198906,
          1.9459101490553132,
          1.0986122886681098
         ],
         "yaxis": "y"
        }
       ],
       "layout": {
        "barmode": "relative",
        "legend": {
         "tracegroupgap": 0
        },
        "template": {
         "data": {
          "bar": [
           {
            "error_x": {
             "color": "#2a3f5f"
            },
            "error_y": {
             "color": "#2a3f5f"
            },
            "marker": {
             "line": {
              "color": "#E5ECF6",
              "width": 0.5
             },
             "pattern": {
              "fillmode": "overlay",
              "size": 10,
              "solidity": 0.2
             }
            },
            "type": "bar"
           }
          ],
          "barpolar": [
           {
            "marker": {
             "line": {
              "color": "#E5ECF6",
              "width": 0.5
             },
             "pattern": {
              "fillmode": "overlay",
              "size": 10,
              "solidity": 0.2
             }
            },
            "type": "barpolar"
           }
          ],
          "carpet": [
           {
            "aaxis": {
             "endlinecolor": "#2a3f5f",
             "gridcolor": "white",
             "linecolor": "white",
             "minorgridcolor": "white",
             "startlinecolor": "#2a3f5f"
            },
            "baxis": {
             "endlinecolor": "#2a3f5f",
             "gridcolor": "white",
             "linecolor": "white",
             "minorgridcolor": "white",
             "startlinecolor": "#2a3f5f"
            },
            "type": "carpet"
           }
          ],
          "choropleth": [
           {
            "colorbar": {
             "outlinewidth": 0,
             "ticks": ""
            },
            "type": "choropleth"
           }
          ],
          "contour": [
           {
            "colorbar": {
             "outlinewidth": 0,
             "ticks": ""
            },
            "colorscale": [
             [
              0,
              "#0d0887"
             ],
             [
              0.1111111111111111,
              "#46039f"
             ],
             [
              0.2222222222222222,
              "#7201a8"
             ],
             [
              0.3333333333333333,
              "#9c179e"
             ],
             [
              0.4444444444444444,
              "#bd3786"
             ],
             [
              0.5555555555555556,
              "#d8576b"
             ],
             [
              0.6666666666666666,
              "#ed7953"
             ],
             [
              0.7777777777777778,
              "#fb9f3a"
             ],
             [
              0.8888888888888888,
              "#fdca26"
             ],
             [
              1,
              "#f0f921"
             ]
            ],
            "type": "contour"
           }
          ],
          "contourcarpet": [
           {
            "colorbar": {
             "outlinewidth": 0,
             "ticks": ""
            },
            "type": "contourcarpet"
           }
          ],
          "heatmap": [
           {
            "colorbar": {
             "outlinewidth": 0,
             "ticks": ""
            },
            "colorscale": [
             [
              0,
              "#0d0887"
             ],
             [
              0.1111111111111111,
              "#46039f"
             ],
             [
              0.2222222222222222,
              "#7201a8"
             ],
             [
              0.3333333333333333,
              "#9c179e"
             ],
             [
              0.4444444444444444,
              "#bd3786"
             ],
             [
              0.5555555555555556,
              "#d8576b"
             ],
             [
              0.6666666666666666,
              "#ed7953"
             ],
             [
              0.7777777777777778,
              "#fb9f3a"
             ],
             [
              0.8888888888888888,
              "#fdca26"
             ],
             [
              1,
              "#f0f921"
             ]
            ],
            "type": "heatmap"
           }
          ],
          "heatmapgl": [
           {
            "colorbar": {
             "outlinewidth": 0,
             "ticks": ""
            },
            "colorscale": [
             [
              0,
              "#0d0887"
             ],
             [
              0.1111111111111111,
              "#46039f"
             ],
             [
              0.2222222222222222,
              "#7201a8"
             ],
             [
              0.3333333333333333,
              "#9c179e"
             ],
             [
              0.4444444444444444,
              "#bd3786"
             ],
             [
              0.5555555555555556,
              "#d8576b"
             ],
             [
              0.6666666666666666,
              "#ed7953"
             ],
             [
              0.7777777777777778,
              "#fb9f3a"
             ],
             [
              0.8888888888888888,
              "#fdca26"
             ],
             [
              1,
              "#f0f921"
             ]
            ],
            "type": "heatmapgl"
           }
          ],
          "histogram": [
           {
            "marker": {
             "pattern": {
              "fillmode": "overlay",
              "size": 10,
              "solidity": 0.2
             }
            },
            "type": "histogram"
           }
          ],
          "histogram2d": [
           {
            "colorbar": {
             "outlinewidth": 0,
             "ticks": ""
            },
            "colorscale": [
             [
              0,
              "#0d0887"
             ],
             [
              0.1111111111111111,
              "#46039f"
             ],
             [
              0.2222222222222222,
              "#7201a8"
             ],
             [
              0.3333333333333333,
              "#9c179e"
             ],
             [
              0.4444444444444444,
              "#bd3786"
             ],
             [
              0.5555555555555556,
              "#d8576b"
             ],
             [
              0.6666666666666666,
              "#ed7953"
             ],
             [
              0.7777777777777778,
              "#fb9f3a"
             ],
             [
              0.8888888888888888,
              "#fdca26"
             ],
             [
              1,
              "#f0f921"
             ]
            ],
            "type": "histogram2d"
           }
          ],
          "histogram2dcontour": [
           {
            "colorbar": {
             "outlinewidth": 0,
             "ticks": ""
            },
            "colorscale": [
             [
              0,
              "#0d0887"
             ],
             [
              0.1111111111111111,
              "#46039f"
             ],
             [
              0.2222222222222222,
              "#7201a8"
             ],
             [
              0.3333333333333333,
              "#9c179e"
             ],
             [
              0.4444444444444444,
              "#bd3786"
             ],
             [
              0.5555555555555556,
              "#d8576b"
             ],
             [
              0.6666666666666666,
              "#ed7953"
             ],
             [
              0.7777777777777778,
              "#fb9f3a"
             ],
             [
              0.8888888888888888,
              "#fdca26"
             ],
             [
              1,
              "#f0f921"
             ]
            ],
            "type": "histogram2dcontour"
           }
          ],
          "mesh3d": [
           {
            "colorbar": {
             "outlinewidth": 0,
             "ticks": ""
            },
            "type": "mesh3d"
           }
          ],
          "parcoords": [
           {
            "line": {
             "colorbar": {
              "outlinewidth": 0,
              "ticks": ""
             }
            },
            "type": "parcoords"
           }
          ],
          "pie": [
           {
            "automargin": true,
            "type": "pie"
           }
          ],
          "scatter": [
           {
            "fillpattern": {
             "fillmode": "overlay",
             "size": 10,
             "solidity": 0.2
            },
            "type": "scatter"
           }
          ],
          "scatter3d": [
           {
            "line": {
             "colorbar": {
              "outlinewidth": 0,
              "ticks": ""
             }
            },
            "marker": {
             "colorbar": {
              "outlinewidth": 0,
              "ticks": ""
             }
            },
            "type": "scatter3d"
           }
          ],
          "scattercarpet": [
           {
            "marker": {
             "colorbar": {
              "outlinewidth": 0,
              "ticks": ""
             }
            },
            "type": "scattercarpet"
           }
          ],
          "scattergeo": [
           {
            "marker": {
             "colorbar": {
              "outlinewidth": 0,
              "ticks": ""
             }
            },
            "type": "scattergeo"
           }
          ],
          "scattergl": [
           {
            "marker": {
             "colorbar": {
              "outlinewidth": 0,
              "ticks": ""
             }
            },
            "type": "scattergl"
           }
          ],
          "scattermapbox": [
           {
            "marker": {
             "colorbar": {
              "outlinewidth": 0,
              "ticks": ""
             }
            },
            "type": "scattermapbox"
           }
          ],
          "scatterpolar": [
           {
            "marker": {
             "colorbar": {
              "outlinewidth": 0,
              "ticks": ""
             }
            },
            "type": "scatterpolar"
           }
          ],
          "scatterpolargl": [
           {
            "marker": {
             "colorbar": {
              "outlinewidth": 0,
              "ticks": ""
             }
            },
            "type": "scatterpolargl"
           }
          ],
          "scatterternary": [
           {
            "marker": {
             "colorbar": {
              "outlinewidth": 0,
              "ticks": ""
             }
            },
            "type": "scatterternary"
           }
          ],
          "surface": [
           {
            "colorbar": {
             "outlinewidth": 0,
             "ticks": ""
            },
            "colorscale": [
             [
              0,
              "#0d0887"
             ],
             [
              0.1111111111111111,
              "#46039f"
             ],
             [
              0.2222222222222222,
              "#7201a8"
             ],
             [
              0.3333333333333333,
              "#9c179e"
             ],
             [
              0.4444444444444444,
              "#bd3786"
             ],
             [
              0.5555555555555556,
              "#d8576b"
             ],
             [
              0.6666666666666666,
              "#ed7953"
             ],
             [
              0.7777777777777778,
              "#fb9f3a"
             ],
             [
              0.8888888888888888,
              "#fdca26"
             ],
             [
              1,
              "#f0f921"
             ]
            ],
            "type": "surface"
           }
          ],
          "table": [
           {
            "cells": {
             "fill": {
              "color": "#EBF0F8"
             },
             "line": {
              "color": "white"
             }
            },
            "header": {
             "fill": {
              "color": "#C8D4E3"
             },
             "line": {
              "color": "white"
             }
            },
            "type": "table"
           }
          ]
         },
         "layout": {
          "annotationdefaults": {
           "arrowcolor": "#2a3f5f",
           "arrowhead": 0,
           "arrowwidth": 1
          },
          "autotypenumbers": "strict",
          "coloraxis": {
           "colorbar": {
            "outlinewidth": 0,
            "ticks": ""
           }
          },
          "colorscale": {
           "diverging": [
            [
             0,
             "#8e0152"
            ],
            [
             0.1,
             "#c51b7d"
            ],
            [
             0.2,
             "#de77ae"
            ],
            [
             0.3,
             "#f1b6da"
            ],
            [
             0.4,
             "#fde0ef"
            ],
            [
             0.5,
             "#f7f7f7"
            ],
            [
             0.6,
             "#e6f5d0"
            ],
            [
             0.7,
             "#b8e186"
            ],
            [
             0.8,
             "#7fbc41"
            ],
            [
             0.9,
             "#4d9221"
            ],
            [
             1,
             "#276419"
            ]
           ],
           "sequential": [
            [
             0,
             "#0d0887"
            ],
            [
             0.1111111111111111,
             "#46039f"
            ],
            [
             0.2222222222222222,
             "#7201a8"
            ],
            [
             0.3333333333333333,
             "#9c179e"
            ],
            [
             0.4444444444444444,
             "#bd3786"
            ],
            [
             0.5555555555555556,
             "#d8576b"
            ],
            [
             0.6666666666666666,
             "#ed7953"
            ],
            [
             0.7777777777777778,
             "#fb9f3a"
            ],
            [
             0.8888888888888888,
             "#fdca26"
            ],
            [
             1,
             "#f0f921"
            ]
           ],
           "sequentialminus": [
            [
             0,
             "#0d0887"
            ],
            [
             0.1111111111111111,
             "#46039f"
            ],
            [
             0.2222222222222222,
             "#7201a8"
            ],
            [
             0.3333333333333333,
             "#9c179e"
            ],
            [
             0.4444444444444444,
             "#bd3786"
            ],
            [
             0.5555555555555556,
             "#d8576b"
            ],
            [
             0.6666666666666666,
             "#ed7953"
            ],
            [
             0.7777777777777778,
             "#fb9f3a"
            ],
            [
             0.8888888888888888,
             "#fdca26"
            ],
            [
             1,
             "#f0f921"
            ]
           ]
          },
          "colorway": [
           "#636efa",
           "#EF553B",
           "#00cc96",
           "#ab63fa",
           "#FFA15A",
           "#19d3f3",
           "#FF6692",
           "#B6E880",
           "#FF97FF",
           "#FECB52"
          ],
          "font": {
           "color": "#2a3f5f"
          },
          "geo": {
           "bgcolor": "white",
           "lakecolor": "white",
           "landcolor": "#E5ECF6",
           "showlakes": true,
           "showland": true,
           "subunitcolor": "white"
          },
          "hoverlabel": {
           "align": "left"
          },
          "hovermode": "closest",
          "mapbox": {
           "style": "light"
          },
          "paper_bgcolor": "white",
          "plot_bgcolor": "#E5ECF6",
          "polar": {
           "angularaxis": {
            "gridcolor": "white",
            "linecolor": "white",
            "ticks": ""
           },
           "bgcolor": "#E5ECF6",
           "radialaxis": {
            "gridcolor": "white",
            "linecolor": "white",
            "ticks": ""
           }
          },
          "scene": {
           "xaxis": {
            "backgroundcolor": "#E5ECF6",
            "gridcolor": "white",
            "gridwidth": 2,
            "linecolor": "white",
            "showbackground": true,
            "ticks": "",
            "zerolinecolor": "white"
           },
           "yaxis": {
            "backgroundcolor": "#E5ECF6",
            "gridcolor": "white",
            "gridwidth": 2,
            "linecolor": "white",
            "showbackground": true,
            "ticks": "",
            "zerolinecolor": "white"
           },
           "zaxis": {
            "backgroundcolor": "#E5ECF6",
            "gridcolor": "white",
            "gridwidth": 2,
            "linecolor": "white",
            "showbackground": true,
            "ticks": "",
            "zerolinecolor": "white"
           }
          },
          "shapedefaults": {
           "line": {
            "color": "#2a3f5f"
           }
          },
          "ternary": {
           "aaxis": {
            "gridcolor": "white",
            "linecolor": "white",
            "ticks": ""
           },
           "baxis": {
            "gridcolor": "white",
            "linecolor": "white",
            "ticks": ""
           },
           "bgcolor": "#E5ECF6",
           "caxis": {
            "gridcolor": "white",
            "linecolor": "white",
            "ticks": ""
           }
          },
          "title": {
           "x": 0.05
          },
          "xaxis": {
           "automargin": true,
           "gridcolor": "white",
           "linecolor": "white",
           "ticks": "",
           "title": {
            "standoff": 15
           },
           "zerolinecolor": "white",
           "zerolinewidth": 2
          },
          "yaxis": {
           "automargin": true,
           "gridcolor": "white",
           "linecolor": "white",
           "ticks": "",
           "title": {
            "standoff": 15
           },
           "zerolinecolor": "white",
           "zerolinewidth": 2
          }
         }
        },
        "title": {
         "text": "Log-Scaled Distribution of Reviews"
        },
        "xaxis": {
         "anchor": "y",
         "domain": [
          0,
          1
         ],
         "title": {
          "text": "Title"
         }
        },
        "yaxis": {
         "anchor": "x",
         "domain": [
          0,
          1
         ],
         "title": {
          "text": "sum of log(1 + Review Count)"
         }
        }
       }
      }
     },
     "metadata": {},
     "output_type": "display_data"
    }
   ],
   "source": [
    "print(\"=== Raw Plot for Log-Scaled Number of Reviews Per Movie ===\\n\")\n",
    "\n",
    "new_df[\"Log Reviews\"] = np.log1p(new_df[\"Number of Reviews\"])\n",
    "\n",
    "fig = px.histogram(\n",
    "    new_df,\n",
    "    x=\"Title\",\n",
    "    y =\"Log Reviews\",\n",
    "    nbins=50,\n",
    "    title=\"Log-Scaled Distribution of Reviews\",\n",
    "    labels={\"Log Reviews\": \"log(1 + Review Count)\"}\n",
    ")\n",
    "fig.show()"
   ]
  },
  {
   "cell_type": "markdown",
   "metadata": {},
   "source": [
    "### Graph for stopword frequency is generated below"
   ]
  },
  {
   "cell_type": "code",
   "execution_count": 439,
   "metadata": {},
   "outputs": [
    {
     "name": "stdout",
     "output_type": "stream",
     "text": [
      "1162\n"
     ]
    },
    {
     "data": {
      "image/png": "[encoded data removed]",
      "text/plain": [
       "<Figure size 2500x2000 with 1 Axes>"
      ]
     },
     "metadata": {},
     "output_type": "display_data"
    }
   ],
   "source": [
    "with open(\"Final_Data/all_review_information_filtered.json\", \"r\") as f:\n",
    "    reviews = json.load(f)\n",
    "\n",
    "with open(\"Solr_Config_Data/stopwords_copy.txt\",\"r\") as f:\n",
    "    stopwords = f.read()\n",
    "    \n",
    "stopwords = [x for x in stopwords.split(\"\\n\")]\n",
    "\n",
    "print(len(stopwords))\n",
    "\n",
    "# Microtext Data Graph\n",
    "stopword_dict = {}\n",
    "for movie_name,reviews in reviews.items():\n",
    "    for review in reviews:\n",
    "        for word in stopwords:\n",
    "            if (len(word) <= 2):\n",
    "                continue\n",
    "            if (word in review['body']):\n",
    "                if (word in stopword_dict.keys()):\n",
    "                    stopword_dict[word] += 1\n",
    "                else:\n",
    "                    stopword_dict[word] = 1\n",
    "\n",
    "words = list(stopword_dict.keys())\n",
    "frequency = list(stopword_dict.values())\n",
    "df = pd.DataFrame(data={'Stopwords': words,'Frequency':frequency})\n",
    "cleaned = df.sort_values(by='Frequency',ascending=False)\n",
    "cleaned.reset_index(inplace=True,drop=True)\n",
    "removed_sparse = cleaned[~(cleaned['Frequency'] <= 6000)]\n",
    "\n",
    "# Plotting\n",
    "plt.figure(figsize=(25, 20))\n",
    "plt.bar(removed_sparse['Stopwords'], removed_sparse['Frequency'])\n",
    "plt.xlabel('Stopwords')\n",
    "plt.ylabel('Frequency')\n",
    "plt.title('Stopword Frequency Distribution')\n",
    "plt.xticks(rotation=45)\n",
    "plt.xticks(rotation=45, fontsize=13) \n",
    "plt.yticks(fontsize=14)               \n",
    "plt.tight_layout()\n",
    "plt.show()"
   ]
  },
  {
   "cell_type": "code",
   "execution_count": null,
   "metadata": {},
   "outputs": [],
   "source": []
  }
 ],
 "metadata": {
  "kernelspec": {
   "display_name": "Python 3",
   "language": "python",
   "name": "python3"
  },
  "language_info": {
   "codemirror_mode": {
    "name": "ipython",
    "version": 3
   },
   "file_extension": ".py",
   "mimetype": "text/x-python",
   "name": "python",
   "nbconvert_exporter": "python",
   "pygments_lexer": "ipython3",
   "version": "3.11.5"
  }
 },
 "nbformat": 4,
 "nbformat_minor": 2
}
